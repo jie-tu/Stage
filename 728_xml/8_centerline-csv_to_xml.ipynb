{
 "cells": [
  {
   "cell_type": "markdown",
   "id": "cde03a0b",
   "metadata": {},
   "source": [
    "### create xml "
   ]
  },
  {
   "cell_type": "code",
   "execution_count": 1,
   "id": "bdf20fff",
   "metadata": {},
   "outputs": [],
   "source": [
    "import xml.etree.ElementTree as ET"
   ]
  },
  {
   "cell_type": "code",
   "execution_count": 2,
   "id": "840d3cbe",
   "metadata": {},
   "outputs": [],
   "source": [
    "root = ET.Element (\"centerlines\")\n",
    "root.set('version','1.0')\n",
    "\n",
    "single_node  = ET.SubElement(root, 'nodes')\n",
    "links        = ET.SubElement(root, 'links')"
   ]
  },
  {
   "cell_type": "markdown",
   "id": "68901548",
   "metadata": {},
   "source": [
    "### read centerline  (id, length ) .csv"
   ]
  },
  {
   "cell_type": "code",
   "execution_count": 3,
   "id": "2a8ce495",
   "metadata": {},
   "outputs": [],
   "source": [
    "import csv"
   ]
  },
  {
   "cell_type": "code",
   "execution_count": 4,
   "id": "f57aefad",
   "metadata": {},
   "outputs": [],
   "source": [
    "with open (\"centerline_points.csv\",'rt',encoding='utf-8') as f:\n",
    "    reader = csv.reader(f)\n",
    "    next(reader, None)\n",
    "    current_group = None\n",
    "    current_link = None \n",
    "    for row in reader :\n",
    "        WKT, FID, length,vertex_ind,vertex_par,vertex_p_1,distance,angle,nodeId = row \n",
    "        #single_node\n",
    "        ET.SubElement(single_node, 'node',{'nodeId': nodeId, 'geometry':WKT[7:-1], 'linkId':FID, 'vertex_ind':vertex_ind})\n",
    "        #links\n",
    "        if current_group is None or FID != current_group.get('linkId'):\n",
    "            current_group = ET.SubElement(links, 'link',{'linkId':FID,'length':length })\n",
    "        \n",
    "        \n",
    "        if (vertex_ind=='0'):\n",
    "            current_link = ET.SubElement(current_group, 'nodes',{'nodeId':nodeId})   \n",
    "        else: \n",
    "            list_nodeId = current_link.get('nodeId')\n",
    "            current_link.set('nodeId',list_nodeId+\" \"+nodeId)\n"
   ]
  },
  {
   "cell_type": "markdown",
   "id": "8daa3fbc",
   "metadata": {},
   "source": [
    "### add list of osmid to centerline"
   ]
  },
  {
   "cell_type": "code",
   "execution_count": 5,
   "id": "b5da2127",
   "metadata": {},
   "outputs": [],
   "source": [
    "### read centerline_osmid xml"
   ]
  },
  {
   "cell_type": "code",
   "execution_count": 6,
   "id": "80b19076",
   "metadata": {},
   "outputs": [],
   "source": [
    "osm_tree = ET.parse('centerline_osmid.xml')\n",
    "osm_root = osm_tree.getroot()"
   ]
  },
  {
   "cell_type": "code",
   "execution_count": 7,
   "id": "d3916adc",
   "metadata": {},
   "outputs": [],
   "source": [
    "for link in links.findall('link'):\n",
    "    #set node1 node2 of link\n",
    "    list_node = link.find('nodes').get('nodeId').split(' ')\n",
    "    link.set('node1', list_node[0])\n",
    "    link.set('node2',list_node[-1])\n",
    "    \n",
    "    #add sub element list_osm\n",
    "    for centerline in osm_root.findall('centerline'):\n",
    "        if (centerline.get('centerline_id')== link.get('linkId')):\n",
    "            #osmid\n",
    "            ET.SubElement(link, 'osm',{'osm_id':centerline.get('osm_id')}) \n",
    "            #distance\n",
    "            for hub in centerline.findall('Hub'):\n",
    "                list_str=hub.get('HubDist').split(' ')\n",
    "                avg = 0\n",
    "                for str_dist in list_str:\n",
    "                    avg = avg + float (str_dist)\n",
    "                avg = avg / len(list_str)\n",
    "                width = link.find('width')\n",
    "                if (width!=None):\n",
    "                    width.set('width', width.get('width')+\" \"+str(avg*2))\n",
    "                else:\n",
    "                    ET.SubElement(link, 'width',{'width': str(avg*2)})    "
   ]
  },
  {
   "cell_type": "code",
   "execution_count": 8,
   "id": "72d920fc",
   "metadata": {},
   "outputs": [],
   "source": [
    "tree = ET.ElementTree(root)\n",
    "ET.indent(tree)\n",
    "tree.write('output.xml',encoding='utf-8')"
   ]
  },
  {
   "cell_type": "code",
   "execution_count": null,
   "id": "104e8cc2",
   "metadata": {},
   "outputs": [],
   "source": []
  }
 ],
 "metadata": {
  "kernelspec": {
   "display_name": "Python 3 (ipykernel)",
   "language": "python",
   "name": "python3"
  },
  "language_info": {
   "codemirror_mode": {
    "name": "ipython",
    "version": 3
   },
   "file_extension": ".py",
   "mimetype": "text/x-python",
   "name": "python",
   "nbconvert_exporter": "python",
   "pygments_lexer": "ipython3",
   "version": "3.9.0"
  }
 },
 "nbformat": 4,
 "nbformat_minor": 5
}
