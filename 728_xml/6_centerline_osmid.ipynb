{
 "cells": [
  {
   "cell_type": "markdown",
   "id": "50fed3c1",
   "metadata": {},
   "source": [
    "### read centerline_osmid csv "
   ]
  },
  {
   "cell_type": "code",
   "execution_count": 1,
   "id": "457f9ac6",
   "metadata": {},
   "outputs": [],
   "source": [
    "import csv"
   ]
  },
  {
   "cell_type": "code",
   "execution_count": 2,
   "id": "e434d950",
   "metadata": {},
   "outputs": [],
   "source": [
    "dict_centerline ={}\n",
    "dict_hub = {}\n",
    "with open (\"centerlie_osmid.csv\",'rt',encoding='utf-8') as f:\n",
    "    reader = csv.reader(f)\n",
    "    next(reader, None)\n",
    "    for row in reader :\n",
    "        WKT,FID,vertex_ind,HubName,HubDist,osm_id = row\n",
    "        if FID not in dict_centerline.keys():\n",
    "            dict_osm = {}\n",
    "            dict_osm [osm_id] = ''\n",
    "            dict_centerline[FID]= dict_osm\n",
    "        else:\n",
    "            dict_centerline[FID][osm_id]= ''\n",
    "            \n",
    "        if FID not in dict_hub.keys():\n",
    "            dict_hubDist = {}\n",
    "            dict_hubDist [HubName] = HubDist\n",
    "            dict_hub[FID]= dict_hubDist\n",
    "        else:\n",
    "            if (HubName in dict_hub[FID].keys()):\n",
    "                dict_hub[FID][HubName]= dict_hub[FID][HubName] + \" \"+ HubDist\n",
    "            else:\n",
    "                dict_hub[FID][HubName]= HubDist\n",
    "        "
   ]
  },
  {
   "cell_type": "code",
   "execution_count": 3,
   "id": "3a8a3501",
   "metadata": {
    "scrolled": false
   },
   "outputs": [
    {
     "name": "stdout",
     "output_type": "stream",
     "text": [
      "centerline_id: 6066 \n",
      "osm_id       : {'32876835': '', '68210802': '', '323605307': '', '32880668': '', '24864209': '', '50345583': '', '4294096': '', '444338531': ''}\n"
     ]
    }
   ],
   "source": [
    "print (\"centerline_id: 6066 \\nosm_id       :\",dict_centerline[\"6066\"], )"
   ]
  },
  {
   "cell_type": "code",
   "execution_count": 10,
   "id": "985132ee",
   "metadata": {},
   "outputs": [
    {
     "name": "stdout",
     "output_type": "stream",
     "text": [
      "centerline_id: 6066 \n",
      "osm_id       : {'2': '23.504935450416770 26.721344296703489 35.888283326865690', '1': '30.251818114257684 30.251818114257684 34.022007473143034 34.022007473143034 38.462936955384464 38.462936955384464 42.365314869666783 42.365314869666783 42.365314869666783'}\n"
     ]
    }
   ],
   "source": [
    "print (\"centerline_id: 6066 \\nosm_id       :\",dict_hub['13'] )"
   ]
  },
  {
   "cell_type": "markdown",
   "id": "1845f10b",
   "metadata": {},
   "source": [
    "### write xml"
   ]
  },
  {
   "cell_type": "code",
   "execution_count": 5,
   "id": "b52bb643",
   "metadata": {},
   "outputs": [],
   "source": [
    "import xml.etree.ElementTree as ET"
   ]
  },
  {
   "cell_type": "code",
   "execution_count": 6,
   "id": "73e60a6c",
   "metadata": {},
   "outputs": [],
   "source": [
    "root = ET.Element (\"centerlines\")\n",
    "root.set('version','1.0')"
   ]
  },
  {
   "cell_type": "code",
   "execution_count": 7,
   "id": "bb0ffa47",
   "metadata": {},
   "outputs": [],
   "source": [
    "for key,value in dict_centerline.items():\n",
    "    ET.SubElement(root, \"centerline\",{'centerline_id':key,'osm_id':' '.join(list(value.keys()))})\n",
    "    "
   ]
  },
  {
   "cell_type": "markdown",
   "id": "4ceb2ec1",
   "metadata": {},
   "source": [
    "```\n",
    "<centerlines version=\"1.0\">\n",
    "...\n",
    "<centerline centerlin_id=\"6066\" osm_id=\"32876835 68210802 323605307 32880668 24864209 50345583 4294096 444338531\" />\n",
    "...\n",
    "</centerlines>\n",
    "\n",
    "```"
   ]
  },
  {
   "cell_type": "code",
   "execution_count": 8,
   "id": "99288e4d",
   "metadata": {},
   "outputs": [],
   "source": [
    "for key, value in dict_hub.items():\n",
    "    for centerline in root.findall('centerline'):\n",
    "        if (centerline.get('centerline_id')==key):\n",
    "            for hubName, hubDist in value.items():\n",
    "                ET.SubElement(centerline, \"Hub\",{'HubName':hubName,'HubDist':hubDist})"
   ]
  },
  {
   "cell_type": "code",
   "execution_count": 9,
   "id": "7010187a",
   "metadata": {},
   "outputs": [],
   "source": [
    "tree = ET.ElementTree(root)\n",
    "ET.indent(tree)\n",
    "tree.write('centerline_osmid.xml',encoding='utf-8')"
   ]
  },
  {
   "cell_type": "code",
   "execution_count": null,
   "id": "feeaeb42",
   "metadata": {},
   "outputs": [],
   "source": []
  }
 ],
 "metadata": {
  "kernelspec": {
   "display_name": "Python 3 (ipykernel)",
   "language": "python",
   "name": "python3"
  },
  "language_info": {
   "codemirror_mode": {
    "name": "ipython",
    "version": 3
   },
   "file_extension": ".py",
   "mimetype": "text/x-python",
   "name": "python",
   "nbconvert_exporter": "python",
   "pygments_lexer": "ipython3",
   "version": "3.9.0"
  }
 },
 "nbformat": 4,
 "nbformat_minor": 5
}
