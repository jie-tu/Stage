{
 "cells": [
  {
   "cell_type": "markdown",
   "id": "4bf050dc",
   "metadata": {},
   "source": [
    "### read output_network xml"
   ]
  },
  {
   "cell_type": "code",
   "execution_count": 1,
   "id": "a78c69dc",
   "metadata": {},
   "outputs": [],
   "source": [
    "import xml.etree.ElementTree as ET\n",
    "tree = ET.parse('mode_addition.xml')\n",
    "root = tree.getroot()"
   ]
  },
  {
   "cell_type": "markdown",
   "id": "f1a39e2b",
   "metadata": {},
   "source": [
    "### read edge centrality csv"
   ]
  },
  {
   "cell_type": "code",
   "execution_count": 2,
   "id": "2dc2783f",
   "metadata": {},
   "outputs": [],
   "source": [
    "import csv"
   ]
  },
  {
   "cell_type": "code",
   "execution_count": 3,
   "id": "90abde5c",
   "metadata": {},
   "outputs": [],
   "source": [
    "with open (\"centrality_paris.csv\",'rt',encoding='utf-8') as f:\n",
    "    reader = csv.reader(f)\n",
    "    for row in reader :\n",
    "        link, centrality= row\n",
    "        node = link[1:-1]\n",
    "        node_ids = node.split(\", \")\n",
    "        \n",
    "        for links in root.findall('links'):\n",
    "            for lk in links.findall('link'):\n",
    "                node1 = lk.get(\"from\")\n",
    "                node2 = lk.get(\"to\")\n",
    "                \n",
    "                if (node_ids[0]==node1 and node_ids[1]==node2 ):\n",
    "                    lk.set(\"edge_centrality\",centrality )        "
   ]
  },
  {
   "cell_type": "markdown",
   "id": "ca9785aa",
   "metadata": {},
   "source": [
    "### read node centrality csv "
   ]
  },
  {
   "cell_type": "code",
   "execution_count": 4,
   "id": "b37a8f7a",
   "metadata": {},
   "outputs": [],
   "source": [
    "with open (\"node_centrality_paris.csv\",'rt',encoding='utf-8') as f:\n",
    "    reader = csv.reader(f)\n",
    "    for row in reader :\n",
    "        nodeID, centrality= row\n",
    "        \n",
    "        for nodes in root.findall('nodes'):\n",
    "            for node in nodes.findall('node'):\n",
    "                node_id = node.get(\"id\")\n",
    "                \n",
    "                if (node_id == nodeID  ):\n",
    "                    node.set(\"node_centrality\",centrality )        "
   ]
  },
  {
   "cell_type": "markdown",
   "id": "024a0af8",
   "metadata": {},
   "source": [
    "### save as xml"
   ]
  },
  {
   "cell_type": "code",
   "execution_count": 5,
   "id": "ea8bcf3d",
   "metadata": {},
   "outputs": [],
   "source": [
    "tree.write(\"add_centrality.xml\",encoding=\"UTF-8\")"
   ]
  }
 ],
 "metadata": {
  "kernelspec": {
   "display_name": "Python 3 (ipykernel)",
   "language": "python",
   "name": "python3"
  },
  "language_info": {
   "codemirror_mode": {
    "name": "ipython",
    "version": 3
   },
   "file_extension": ".py",
   "mimetype": "text/x-python",
   "name": "python",
   "nbconvert_exporter": "python",
   "pygments_lexer": "ipython3",
   "version": "3.9.0"
  }
 },
 "nbformat": 4,
 "nbformat_minor": 5
}
