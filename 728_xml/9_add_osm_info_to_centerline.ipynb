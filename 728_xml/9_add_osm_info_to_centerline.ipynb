{
 "cells": [
  {
   "cell_type": "code",
   "execution_count": 1,
   "id": "1ef05567",
   "metadata": {},
   "outputs": [],
   "source": [
    "import xml.etree.ElementTree as ET"
   ]
  },
  {
   "cell_type": "code",
   "execution_count": 2,
   "id": "ec05f591",
   "metadata": {},
   "outputs": [],
   "source": [
    "centerline_tree = ET.parse('centerline.xml')\n",
    "centerline_root = centerline_tree.getroot()\n",
    "centerline_nodes= centerline_root.find('nodes')\n",
    "centerline_links= centerline_root.find('links')"
   ]
  },
  {
   "cell_type": "code",
   "execution_count": 3,
   "id": "d004a37f",
   "metadata": {},
   "outputs": [],
   "source": [
    "osm_tree = ET.parse('osm.xml')\n",
    "osm_root = osm_tree.getroot()"
   ]
  },
  {
   "cell_type": "code",
   "execution_count": 4,
   "id": "ef4efa11",
   "metadata": {},
   "outputs": [],
   "source": [
    "way_to_link={}\n",
    "for osm_links in osm_root.findall('links'):\n",
    "    for osm_lk in osm_links.findall('link'):\n",
    "        for osm_attrs in osm_lk.findall('attributes'):\n",
    "            for osm_attr in osm_attrs.findall('attribute'):\n",
    "                if (osm_attr.get('name')==\"osm:way:id\"):\n",
    "                    way_to_link[osm_attr.text] = osm_lk.get('id')"
   ]
  },
  {
   "cell_type": "code",
   "execution_count": 5,
   "id": "887a5aa5",
   "metadata": {},
   "outputs": [],
   "source": [
    "#for each centerline \n",
    "for centerline_link in centerline_links.findall('link'):\n",
    "    for osm in centerline_link.findall('osm'):\n",
    "        osm_id = osm.get('osm_id').split(' ')\n",
    "        for single_osm_id in osm_id:\n",
    "            #for each osm id\n",
    "            for osm_link in osm_links.findall('link'):\n",
    "                if (single_osm_id in way_to_link.keys()):\n",
    "                    if (osm_link.get('id') == way_to_link[single_osm_id]):\n",
    "                        \n",
    "                        for parametre in ['freespeed', 'capacity', 'permlanes','oneway','modes'] :\n",
    "                            #union osmid info\n",
    "                            osm_parametre = centerline_link.find(parametre)\n",
    "                            if (osm_parametre!=None):\n",
    "                                osm_parametre.set(parametre, osm_parametre.get(parametre)+\" \"+ osm_link.get(parametre))\n",
    "                            else:\n",
    "                                ET.SubElement(centerline_link, parametre,{parametre: osm_link.get(parametre)})\n",
    "      "
   ]
  },
  {
   "cell_type": "code",
   "execution_count": 6,
   "id": "5829f083",
   "metadata": {},
   "outputs": [],
   "source": [
    "tree = ET.ElementTree(centerline_root)\n",
    "ET.indent(tree)\n",
    "tree.write('output.xml',encoding='utf-8')"
   ]
  },
  {
   "cell_type": "code",
   "execution_count": null,
   "id": "07ee9a4f",
   "metadata": {},
   "outputs": [],
   "source": []
  }
 ],
 "metadata": {
  "kernelspec": {
   "display_name": "Python 3 (ipykernel)",
   "language": "python",
   "name": "python3"
  },
  "language_info": {
   "codemirror_mode": {
    "name": "ipython",
    "version": 3
   },
   "file_extension": ".py",
   "mimetype": "text/x-python",
   "name": "python",
   "nbconvert_exporter": "python",
   "pygments_lexer": "ipython3",
   "version": "3.9.0"
  }
 },
 "nbformat": 4,
 "nbformat_minor": 5
}
