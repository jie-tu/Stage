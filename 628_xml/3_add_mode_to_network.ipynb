{
 "cells": [
  {
   "cell_type": "code",
   "execution_count": 1,
   "id": "f61c9703",
   "metadata": {},
   "outputs": [],
   "source": [
    "import xml.etree.ElementTree as ET"
   ]
  },
  {
   "cell_type": "markdown",
   "id": "c095ab46",
   "metadata": {},
   "source": [
    "### read output_network xml"
   ]
  },
  {
   "cell_type": "code",
   "execution_count": 2,
   "id": "257f7585",
   "metadata": {},
   "outputs": [],
   "source": [
    "tree = ET.parse('output_network.xml')\n",
    "root = tree.getroot()"
   ]
  },
  {
   "cell_type": "markdown",
   "id": "0deb1ac0",
   "metadata": {},
   "source": [
    "### read bus_line xml  "
   ]
  },
  {
   "cell_type": "code",
   "execution_count": 3,
   "id": "c43e1585",
   "metadata": {},
   "outputs": [],
   "source": [
    "bus_tree = ET.parse('bus_line_output.xml')\n",
    "bus_root = bus_tree.getroot()"
   ]
  },
  {
   "cell_type": "markdown",
   "id": "71eda5ab",
   "metadata": {},
   "source": [
    "### read subway_line xml"
   ]
  },
  {
   "cell_type": "code",
   "execution_count": 4,
   "id": "a9f7d143",
   "metadata": {},
   "outputs": [],
   "source": [
    "subway_tree = ET.parse('subway_line_output.xml')\n",
    "subway_root = subway_tree.getroot()"
   ]
  },
  {
   "cell_type": "markdown",
   "id": "daf8c9fc",
   "metadata": {},
   "source": [
    "### read train_line xml "
   ]
  },
  {
   "cell_type": "code",
   "execution_count": 5,
   "id": "aaeb58a8",
   "metadata": {},
   "outputs": [],
   "source": [
    "train_tree = ET.parse('train_line_output.xml')\n",
    "train_root = train_tree.getroot()"
   ]
  },
  {
   "cell_type": "markdown",
   "id": "d7c058f5",
   "metadata": {},
   "source": [
    "### add bus line to network "
   ]
  },
  {
   "cell_type": "code",
   "execution_count": 6,
   "id": "785da37c",
   "metadata": {},
   "outputs": [],
   "source": [
    "for links in root.findall('links'):\n",
    "    for lk in links.findall('link'):\n",
    "        for attrs in lk.findall('attributes'):\n",
    "            list_bus=\"\"\n",
    "            list_subway=\"\"\n",
    "            list_train=\"\"\n",
    "            for attr in attrs.findall('attribute'):\n",
    "                if(attr.attrib.get('name')== 'osm:way:id'):\n",
    "                    \n",
    "                    #get all bus by way osm id     \n",
    "                    for ways in bus_root.findall('ways'):\n",
    "                        for way in ways.findall('way'):\n",
    "                            if (way.get('osm_id')== attr.text):\n",
    "                                for bus in way.findall('bus_line'):\n",
    "                                    bus_name= bus.get('line_name').split(\" \")\n",
    "                                    list_bus = list_bus +'line_id:'+bus.get('line_id')+\",\"+bus_name[0]+\":\"+bus_name[1] + \" \"\n",
    "                                    \n",
    "                    #get all subway by way osm id     \n",
    "                    for ways in subway_root.findall('ways'):\n",
    "                        for way in ways.findall('way'):\n",
    "                            if (way.get('osm_id')== attr.text):\n",
    "                                for subway in way.findall('subway_line'):\n",
    "                                    subway_name= subway.get('line_name').split(\" \")\n",
    "                                    list_subway = list_subway +'line_id:'+subway.get('line_id')+\",\" +subway_name[0]+\":\"+subway_name[1] + \" \"\n",
    "                                    \n",
    "                    #get all train by way osm id     \n",
    "                    for ways in train_root.findall('ways'):\n",
    "                        for way in ways.findall('way'):\n",
    "                            if (way.get('osm_id')== attr.text):\n",
    "                                for train in way.findall('train_line'):\n",
    "                                    train_name= train.get('line_name').split(\" \")\n",
    "                                    list_train = list_train +'line_id:'+train.get('line_id')+\",\" +train_name[0]+\":\"+train_name[1] + \" \"\n",
    "                                    \n",
    "            #add list bus to attrs                    \n",
    "            new_attr = ET.SubElement(attrs,\"attribute\",\n",
    "                         {\"name\":\"osm:way:bus\",\n",
    "                         \"class\":\"java.lang.String\"})\n",
    "            new_attr.text= list_bus\n",
    "            \n",
    "            #add list subway to attrs                    \n",
    "            new_attr = ET.SubElement(attrs,\"attribute\",\n",
    "                         {\"name\":\"osm:way:subway\",\n",
    "                         \"class\":\"java.lang.String\"})\n",
    "            new_attr.text= list_subway\n",
    "            \n",
    "            #add list train to attrs                    \n",
    "            new_attr = ET.SubElement(attrs,\"attribute\",\n",
    "                         {\"name\":\"osm:way:train\",\n",
    "                         \"class\":\"java.lang.String\"})\n",
    "            new_attr.text= list_train         "
   ]
  },
  {
   "cell_type": "code",
   "execution_count": 7,
   "id": "aea801bb",
   "metadata": {},
   "outputs": [],
   "source": [
    "ET.indent(tree)\n",
    "tree.write(\"mode_addition.xml\",encoding=\"UTF-8\")"
   ]
  },
  {
   "cell_type": "markdown",
   "id": "abadd072",
   "metadata": {},
   "source": [
    "```\n",
    "#bus\n",
    "<link id=\"100398\" from=\"5904976363\" to=\"24983651\" length=\"14.860209130036054\" ...>\n",
    "    <attributes>\n",
    "        ...\n",
    "        <attribute name=\"osm:way:bus\" class=\"java.lang.String\">line_id:1251022,Bus:70 line_id:1257171,Bus:58 ... </attribute>\n",
    "    </attributes>\n",
    "</link>\n",
    "\n",
    "#subway\n",
    "<link id=\"542029\" from=\"1528156934\" to=\"6361640173\" length=\"23.008218532773487\" ...>\n",
    "    <attributes>\n",
    "        ...\n",
    "        <attribute name=\"osm:way:subway\" class=\"java.lang.String\">line_id:123564,Métro:8 line_id:7731215,Métro:8 </attribute>\n",
    "    </attributes>\n",
    "</link>\n",
    "\n",
    "#train\n",
    "<link id=\"103826\" from=\"27415781\" to=\"639102275\" length=\"534.274922295084\" ...>\n",
    "    <attributes>\n",
    "        ...\n",
    "        <attribute name=\"osm:way:train\" class=\"java.lang.String\">line_id:3014389,RER:C line_id:3027737,RER:C </attribute>\n",
    "    </attributes>\n",
    "</link>\n",
    "```"
   ]
  },
  {
   "cell_type": "code",
   "execution_count": null,
   "id": "7edc925c",
   "metadata": {},
   "outputs": [],
   "source": []
  }
 ],
 "metadata": {
  "kernelspec": {
   "display_name": "Python 3 (ipykernel)",
   "language": "python",
   "name": "python3"
  },
  "language_info": {
   "codemirror_mode": {
    "name": "ipython",
    "version": 3
   },
   "file_extension": ".py",
   "mimetype": "text/x-python",
   "name": "python",
   "nbconvert_exporter": "python",
   "pygments_lexer": "ipython3",
   "version": "3.9.0"
  }
 },
 "nbformat": 4,
 "nbformat_minor": 5
}
