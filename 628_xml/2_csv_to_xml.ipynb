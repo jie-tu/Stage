{
 "cells": [
  {
   "cell_type": "code",
   "execution_count": 1,
   "id": "3431f95b",
   "metadata": {},
   "outputs": [],
   "source": [
    "import xml.etree.ElementTree as ET\n",
    "import csv"
   ]
  },
  {
   "cell_type": "code",
   "execution_count": 2,
   "id": "8ce0a27b",
   "metadata": {},
   "outputs": [],
   "source": [
    "root = ET.Element ('bus_line')\n",
    "root.set('version','1.0')"
   ]
  },
  {
   "cell_type": "code",
   "execution_count": 3,
   "id": "00b2dfdf",
   "metadata": {},
   "outputs": [],
   "source": [
    "body = ET.SubElement(root,'ways')"
   ]
  },
  {
   "cell_type": "code",
   "execution_count": 4,
   "id": "d1cf2f52",
   "metadata": {},
   "outputs": [],
   "source": [
    "with open ('bus_line.csv','rt') as f:\n",
    "    current_group = None\n",
    "    reader = csv.reader(f)\n",
    "    next(reader, None)\n",
    "    for row in reader :\n",
    "        WKT, relation_i, relation_n, osm_id = row\n",
    "        \n",
    "        if current_group is None or osm_id != current_group.get('osm_id'):\n",
    "            current_group = ET.SubElement(body, 'way',{'osm_id':osm_id,'geometry':WKT})\n",
    "        podcast = ET.SubElement(current_group, 'bus',\n",
    "                                {'line_id':relation_i,\n",
    "                                 'line_name':relation_n,\n",
    "                                })"
   ]
  },
  {
   "cell_type": "code",
   "execution_count": 5,
   "id": "3bdd4544",
   "metadata": {},
   "outputs": [],
   "source": [
    "tree = ET.ElementTree(root)\n",
    "ET.indent(tree)\n",
    "with open('output.xml', 'wb') as f:\n",
    "    tree.write(f)\n",
    "    "
   ]
  }
 ],
 "metadata": {
  "kernelspec": {
   "display_name": "Python 3 (ipykernel)",
   "language": "python",
   "name": "python3"
  },
  "language_info": {
   "codemirror_mode": {
    "name": "ipython",
    "version": 3
   },
   "file_extension": ".py",
   "mimetype": "text/x-python",
   "name": "python",
   "nbconvert_exporter": "python",
   "pygments_lexer": "ipython3",
   "version": "3.9.0"
  }
 },
 "nbformat": 4,
 "nbformat_minor": 5
}
