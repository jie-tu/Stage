{
 "cells": [
  {
   "cell_type": "code",
   "execution_count": 1,
   "id": "3431f95b",
   "metadata": {},
   "outputs": [],
   "source": [
    "import xml.etree.ElementTree as ET\n",
    "import csv"
   ]
  },
  {
   "cell_type": "code",
   "execution_count": 2,
   "id": "dcdafe6c",
   "metadata": {},
   "outputs": [],
   "source": [
    "#mode = \"train_line\"\n",
    "mode = \"bus_line\"\n",
    "#mode = \"subway_line\""
   ]
  },
  {
   "cell_type": "code",
   "execution_count": 3,
   "id": "8ce0a27b",
   "metadata": {},
   "outputs": [],
   "source": [
    "root = ET.Element (mode)\n",
    "root.set('version','1.0')"
   ]
  },
  {
   "cell_type": "code",
   "execution_count": 4,
   "id": "00b2dfdf",
   "metadata": {},
   "outputs": [],
   "source": [
    "body = ET.SubElement(root,'ways')"
   ]
  },
  {
   "cell_type": "code",
   "execution_count": 5,
   "id": "d1cf2f52",
   "metadata": {},
   "outputs": [],
   "source": [
    "with open (mode+\".csv\",'rt',encoding='utf-8') as f:\n",
    "    current_group = None\n",
    "    reader = csv.reader(f)\n",
    "    next(reader, None)\n",
    "    for row in reader :\n",
    "        WKT, relation_i, relation_n, osm_id = row\n",
    "        \n",
    "        if current_group is None or osm_id != current_group.get('osm_id'):\n",
    "            current_group = ET.SubElement(body, 'way',{'osm_id':osm_id,'geometry':WKT})\n",
    "        podcast = ET.SubElement(current_group, mode,\n",
    "                                {'line_id':relation_i,\n",
    "                                 'line_name':relation_n,\n",
    "                                })"
   ]
  },
  {
   "cell_type": "code",
   "execution_count": 6,
   "id": "3bdd4544",
   "metadata": {},
   "outputs": [],
   "source": [
    "tree = ET.ElementTree(root)\n",
    "ET.indent(tree)\n",
    "tree.write(mode+'_output.xml',encoding='utf-8')\n",
    "    "
   ]
  }
 ],
 "metadata": {
  "kernelspec": {
   "display_name": "Python 3 (ipykernel)",
   "language": "python",
   "name": "python3"
  },
  "language_info": {
   "codemirror_mode": {
    "name": "ipython",
    "version": 3
   },
   "file_extension": ".py",
   "mimetype": "text/x-python",
   "name": "python",
   "nbconvert_exporter": "python",
   "pygments_lexer": "ipython3",
   "version": "3.9.0"
  }
 },
 "nbformat": 4,
 "nbformat_minor": 5
}
