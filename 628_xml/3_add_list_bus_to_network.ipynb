{
 "cells": [
  {
   "cell_type": "code",
   "execution_count": 1,
   "id": "b941549a",
   "metadata": {},
   "outputs": [],
   "source": [
    "import xml.etree.ElementTree as ET"
   ]
  },
  {
   "cell_type": "markdown",
   "id": "79bbd8e6",
   "metadata": {},
   "source": [
    "### read output_network xml"
   ]
  },
  {
   "cell_type": "code",
   "execution_count": 2,
   "id": "1eb27796",
   "metadata": {},
   "outputs": [],
   "source": [
    "tree = ET.parse('output_network.xml')\n",
    "root = tree.getroot()"
   ]
  },
  {
   "cell_type": "markdown",
   "id": "6b9b3317",
   "metadata": {},
   "source": [
    "### read bus_line xml  "
   ]
  },
  {
   "cell_type": "code",
   "execution_count": 3,
   "id": "d74b4332",
   "metadata": {},
   "outputs": [],
   "source": [
    "bus_tree = ET.parse('output.xml')\n",
    "bus_root = bus_tree.getroot()"
   ]
  },
  {
   "cell_type": "markdown",
   "id": "f1ac376b",
   "metadata": {},
   "source": [
    "### add bus line to network "
   ]
  },
  {
   "cell_type": "code",
   "execution_count": 4,
   "id": "c13a38bb",
   "metadata": {},
   "outputs": [],
   "source": [
    "for links in root.findall('links'):\n",
    "    for lk in links.findall('link'):\n",
    "        for attrs in lk.findall('attributes'):\n",
    "            list_bus=\"\"\n",
    "            for attr in attrs.findall('attribute'):\n",
    "                if(attr.attrib.get('name')== 'osm:way:id'):\n",
    "                    \n",
    "                    #get all bus by way osm id     \n",
    "                    for ways in bus_root.findall('ways'):\n",
    "                        for way in ways.findall('way'):\n",
    "                            if (way.get('osm_id')== attr.text):\n",
    "                                for bus in way.findall('bus'):\n",
    "                                    bus_name= bus.get('line_name').split(\" \")\n",
    "                                    list_bus = list_bus +bus.get('line_id') +bus_name[0]+bus_name[1] + \" \"\n",
    "            #add list bus to attrs                    \n",
    "            new_attr = ET.SubElement(attrs,\"attribute\",\n",
    "                         {\"name\":\"osm:way:bus\",\n",
    "                         \"class\":\"java.lang.String\"})\n",
    "            new_attr.text= list_bus\n",
    "    break            "
   ]
  },
  {
   "cell_type": "code",
   "execution_count": 5,
   "id": "4770d1bc",
   "metadata": {},
   "outputs": [],
   "source": [
    "ET.indent(tree)\n",
    "tree.write(\"bus_addition.xml\",encoding=\"UTF-8\")"
   ]
  },
  {
   "cell_type": "markdown",
   "id": "56758937",
   "metadata": {},
   "source": [
    "```\n",
    "<link id=\"100398\" from=\"5904976363\" to=\"24983651\" length=\"14.860209130036054\" freespeed=\"8.333333333333334\" ...>\n",
    "      <attributes>\n",
    "        ...\n",
    "        <attribute name=\"osm:way:bus\" class=\"java.lang.String\">Bus70 Bus58 Bus58 Bus70 </attribute>\n",
    "      </attributes>\n",
    "</link>\n",
    "```"
   ]
  }
 ],
 "metadata": {
  "kernelspec": {
   "display_name": "Python 3 (ipykernel)",
   "language": "python",
   "name": "python3"
  },
  "language_info": {
   "codemirror_mode": {
    "name": "ipython",
    "version": 3
   },
   "file_extension": ".py",
   "mimetype": "text/x-python",
   "name": "python",
   "nbconvert_exporter": "python",
   "pygments_lexer": "ipython3",
   "version": "3.9.0"
  }
 },
 "nbformat": 4,
 "nbformat_minor": 5
}
