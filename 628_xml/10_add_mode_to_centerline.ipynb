{
 "cells": [
  {
   "cell_type": "markdown",
   "id": "ac6e3376",
   "metadata": {},
   "source": [
    "### Qgis get line intersection"
   ]
  },
  {
   "cell_type": "markdown",
   "id": "223c7a39",
   "metadata": {},
   "source": [
    "```\n",
    "processing.run(\"native:lineintersections\", { 'INPUT' : 'G:/809_add_subway_train/linestrings_buildings.shp', 'INPUT_FIELDS' : ['FID','vertex_ind'], 'INTERSECT' : 'G:/809_add_subway_train/bus_line.shp', 'INTERSECT_FIELDS' : ['relation_i','relation_n','osm_id'], 'INTERSECT_FIELDS_PREFIX' : '', 'OUTPUT' : 'G:/807_centerline_xml/bus_intersection.shp' })\n",
    "\n",
    "processing.run(\"native:lineintersections\", { 'INPUT' : 'G:/809_add_subway_train/linestrings_buildings.shp', 'INPUT_FIELDS' : ['FID','vertex_ind'], 'INTERSECT' : 'G:/809_add_subway_train/subway_line.shp', 'INTERSECT_FIELDS' : ['relation_i','relation_n','osm_id'], 'INTERSECT_FIELDS_PREFIX' : '', 'OUTPUT' : 'G:/807_centerline_xml/subway_intersection.shp' })\n",
    "\n",
    "processing.run(\"native:lineintersections\",{ 'INPUT' : 'G:/809_add_subway_train/linestrings_buildings.shp', 'INPUT_FIELDS' : ['FID','vertex_ind'], 'INTERSECT' : 'G:/809_add_subway_train/train_line.shp', 'INTERSECT_FIELDS' : ['relation_i','relation_n','osm_id'], 'INTERSECT_FIELDS_PREFIX' : '', 'OUTPUT' : 'G:/807_centerline_xml/train_intersection.shp' })\n",
    "\n",
    "```"
   ]
  },
  {
   "cell_type": "markdown",
   "id": "f5aa9705",
   "metadata": {},
   "source": [
    "### convert shp to csv to xml"
   ]
  },
  {
   "cell_type": "code",
   "execution_count": 1,
   "id": "80b45e3c",
   "metadata": {},
   "outputs": [],
   "source": [
    "import csv"
   ]
  },
  {
   "cell_type": "code",
   "execution_count": 2,
   "id": "f87acba7",
   "metadata": {},
   "outputs": [],
   "source": [
    "dict_bus ={}\n",
    "with open (\"bus_intersection.csv\",'rt',encoding='utf-8') as f:\n",
    "    reader = csv.reader(f)\n",
    "    next(reader, None)\n",
    "    for row in reader :\n",
    "        WKT,FID,vertex_ind,relation_i,relation_n,osm_id = row\n",
    "        if FID not in dict_bus.keys():\n",
    "            dict_osm = {}\n",
    "            dict_osm [osm_id] = [{relation_i:relation_n}]\n",
    "            dict_bus[FID]= dict_osm\n",
    "        else:\n",
    "            if osm_id in dict_bus[FID].keys():\n",
    "                if {relation_i:relation_n} not in dict_bus[FID][osm_id] :\n",
    "                    dict_bus[FID][osm_id].append({relation_i:relation_n})\n",
    "            else:\n",
    "                dict_osm = {}\n",
    "                dict_osm [osm_id] = [{relation_i:relation_n}]\n",
    "                dict_bus[FID]= dict_osm\n",
    "                "
   ]
  },
  {
   "cell_type": "code",
   "execution_count": 3,
   "id": "4862eca4",
   "metadata": {},
   "outputs": [
    {
     "name": "stdout",
     "output_type": "stream",
     "text": [
      "14 {'283473009': [{'1253894': 'Bus 72 : Gare de Lyon → Parc de Saint-Cloud'}]}\n"
     ]
    }
   ],
   "source": [
    "for key,value in dict_bus.items():\n",
    "    print(key,value)\n",
    "    break"
   ]
  },
  {
   "cell_type": "code",
   "execution_count": 4,
   "id": "e6efbbd0",
   "metadata": {},
   "outputs": [],
   "source": [
    "dict_subway ={}\n",
    "with open (\"subway_intersection.csv\",'rt',encoding='utf-8') as f:\n",
    "    reader = csv.reader(f)\n",
    "    next(reader, None)\n",
    "    for row in reader :\n",
    "        WKT,FID,vertex_ind,relation_i,relation_n,osm_id = row\n",
    "        if FID not in dict_subway.keys():\n",
    "            dict_osm = {}\n",
    "            dict_osm [osm_id] = [{relation_i:relation_n}]\n",
    "            dict_subway[FID]= dict_osm\n",
    "        else:\n",
    "            if osm_id in dict_subway[FID].keys():\n",
    "                if {relation_i:relation_n} not in dict_subway[FID][osm_id] :\n",
    "                    dict_subway[FID][osm_id].append({relation_i:relation_n})\n",
    "            else:\n",
    "                dict_osm = {}\n",
    "                dict_osm [osm_id] = [{relation_i:relation_n}]\n",
    "                dict_subway[FID]= dict_osm                          "
   ]
  },
  {
   "cell_type": "code",
   "execution_count": 5,
   "id": "325ac78d",
   "metadata": {},
   "outputs": [
    {
     "name": "stdout",
     "output_type": "stream",
     "text": [
      "15 {'24380725': [{'123768': \"Métro 10: Boulogne - Pont de Saint-Cloud → Gare d'Austerlitz\"}, {'3328740': \"Métro 10: Gare d'Austerlitz → Boulogne - Pont de Saint-Cloud\"}]}\n"
     ]
    }
   ],
   "source": [
    "for key,value in dict_subway.items():\n",
    "    print(key,value)\n",
    "    break"
   ]
  },
  {
   "cell_type": "code",
   "execution_count": 6,
   "id": "d1ebf99f",
   "metadata": {},
   "outputs": [],
   "source": [
    "dict_train ={}\n",
    "with open (\"train_intersection.csv\",'rt',encoding='utf-8') as f:\n",
    "    reader = csv.reader(f)\n",
    "    next(reader, None)\n",
    "    for row in reader :\n",
    "        WKT,FID,vertex_ind,relation_i,relation_n,osm_id = row\n",
    "        if FID not in dict_train.keys():\n",
    "            dict_osm = {}\n",
    "            dict_osm [osm_id] = [{relation_i:relation_n}]\n",
    "            dict_train[FID]= dict_osm\n",
    "        else:\n",
    "            if osm_id in dict_train[FID].keys():\n",
    "                if {relation_i:relation_n} not in dict_train[FID][osm_id] :\n",
    "                    dict_train[FID][osm_id].append({relation_i:relation_n})\n",
    "            else:\n",
    "                dict_osm = {}\n",
    "                dict_osm [osm_id] = [{relation_i:relation_n}]\n",
    "                dict_train[FID]= dict_osm\n",
    "                \n",
    "                                                  \n",
    "           "
   ]
  },
  {
   "cell_type": "code",
   "execution_count": 7,
   "id": "3a6daf32",
   "metadata": {},
   "outputs": [
    {
     "name": "stdout",
     "output_type": "stream",
     "text": [
      "711 {'181567868': [{'3047780': 'RER C Tronçon C7 - Champ de Mars - Tour Eiffel → Saint-Quentin-en-Yvelines'}, {'3049185': 'RER C Tronçon C5 - Champ de Mars - Tour Eiffel → Versailles Rive Gauche'}]}\n"
     ]
    }
   ],
   "source": [
    "for key,value in dict_train.items():\n",
    "    print(key,value)\n",
    "    break"
   ]
  },
  {
   "cell_type": "code",
   "execution_count": 8,
   "id": "ef68c57c",
   "metadata": {},
   "outputs": [],
   "source": [
    "import xml.etree.ElementTree as ET"
   ]
  },
  {
   "cell_type": "code",
   "execution_count": 9,
   "id": "a9b879e8",
   "metadata": {},
   "outputs": [],
   "source": [
    "centerline_tree = ET.parse('centerline.xml')\n",
    "centerline_root = centerline_tree.getroot()\n",
    "centerline_nodes= centerline_root.find('nodes')\n",
    "centerline_links= centerline_root.find('links')"
   ]
  },
  {
   "cell_type": "code",
   "execution_count": 10,
   "id": "8d2ffe5c",
   "metadata": {},
   "outputs": [],
   "source": [
    "for centerline_link in centerline_links.findall('link'):\n",
    "    linkid = centerline_link.get('linkId')\n",
    "    \n",
    "    if linkid in dict_bus.keys():\n",
    "        for way_id , ligne in dict_bus[linkid].items():\n",
    "            for lg in ligne:\n",
    "                for relation_i, relation_n in lg.items():\n",
    "                    parametre ='bus'\n",
    "                    ligne_name=relation_n.split(' ')\n",
    "                    osm_parametre = centerline_link.find(parametre)\n",
    "                    if (osm_parametre!=None):\n",
    "                        osm_parametre.set(parametre, osm_parametre.get(parametre)+' '+ 'lingeId:'+relation_i+','+ligne_name[0]+':'+ligne_name[1])\n",
    "                    else:\n",
    "                        ET.SubElement(centerline_link, parametre,{parametre: 'lingeId:'+relation_i+','+ligne_name[0]+':'+ligne_name[1]})\n",
    "    \n",
    "    if linkid in dict_subway.keys():\n",
    "        for way_id , ligne in dict_subway[linkid].items():\n",
    "            for lg in ligne:\n",
    "                for relation_i, relation_n in lg.items():\n",
    "                    parametre ='subway'\n",
    "                    ligne_name=relation_n.split(' ')\n",
    "                    osm_parametre = centerline_link.find(parametre)\n",
    "                    if (osm_parametre!=None):\n",
    "                        osm_parametre.set(parametre, osm_parametre.get(parametre)+' '+ 'lingeId:'+relation_i+','+ligne_name[0]+':'+ligne_name[1])\n",
    "                    else:\n",
    "                        ET.SubElement(centerline_link, parametre,{parametre: 'lingeId:'+relation_i+','+ligne_name[0]+':'+ligne_name[1]})\n",
    "                        \n",
    "    if linkid in dict_train.keys():\n",
    "        for way_id , ligne in dict_train[linkid].items():\n",
    "            for lg in ligne:\n",
    "                for relation_i, relation_n in lg.items():\n",
    "                    parametre ='train'\n",
    "                    ligne_name=relation_n.split(' ')\n",
    "                    osm_parametre = centerline_link.find(parametre)\n",
    "                    if (osm_parametre!=None):\n",
    "                        osm_parametre.set(parametre, osm_parametre.get(parametre)+' '+ 'lingeId:'+relation_i+','+ligne_name[0]+':'+ligne_name[1])\n",
    "                    else:\n",
    "                        ET.SubElement(centerline_link, parametre,{parametre: 'lingeId:'+relation_i+','+ligne_name[0]+':'+ligne_name[1]})"
   ]
  },
  {
   "cell_type": "code",
   "execution_count": 11,
   "id": "fb4a2d71",
   "metadata": {},
   "outputs": [],
   "source": [
    "tree = ET.ElementTree(centerline_root)\n",
    "ET.indent(tree)\n",
    "tree.write('output.xml',encoding='utf-8')"
   ]
  },
  {
   "cell_type": "markdown",
   "id": "515f51b5",
   "metadata": {},
   "source": [
    "```\n",
    "    <link linkId=\"1391\" length=\"122.574\" node1=\"58222\" node2=\"58335\">\n",
    "      <nodes nodeId=\"58222 58223 58224 ...\" />\n",
    "      <osm osm_id=\"24642237 749622104 24030143 24642446\" />\n",
    "      <width width=\"24.859735642220222 20.050516735498142 20.30311626228249 27.78647952544148 37.16374291122703\" />\n",
    "      <freespeed freespeed=\"8.333333333333334 8.333333333333334 8.333333333333334 8.333333333333334\" />\n",
    "      <capacity capacity=\"480.0 1440.0 480.0 800.0\" />\n",
    "      <permlanes permlanes=\"1.0 3.0 1.0 1.0\" />\n",
    "      <oneway oneway=\"1 1 1 1\" />\n",
    "      <modes modes=\"car,pt,bus,car_passenger car,pt,bus,car_passenger car,car_passenger car,pt,bus,car_passenger\" />\n",
    "      <bus bus=\"lingeId:1255722,Bus:32 lingeId:1255726,Bus:32 lingeId:1709734,Noctilien:N53 lingeId:6434463,Noctilien:N53\" />\n",
    "      <subway subway=\"lingeId:123782,Métro:9 lingeId:3328716,Métro:9\" />\n",
    "      <train train=\"lingeId:3014389,RER:C lingeId:3027737,RER:C\" />\n",
    "    </link>\n",
    "```"
   ]
  },
  {
   "cell_type": "code",
   "execution_count": null,
   "id": "10f59483",
   "metadata": {},
   "outputs": [],
   "source": []
  }
 ],
 "metadata": {
  "kernelspec": {
   "display_name": "Python 3 (ipykernel)",
   "language": "python",
   "name": "python3"
  },
  "language_info": {
   "codemirror_mode": {
    "name": "ipython",
    "version": 3
   },
   "file_extension": ".py",
   "mimetype": "text/x-python",
   "name": "python",
   "nbconvert_exporter": "python",
   "pygments_lexer": "ipython3",
   "version": "3.9.0"
  }
 },
 "nbformat": 4,
 "nbformat_minor": 5
}
