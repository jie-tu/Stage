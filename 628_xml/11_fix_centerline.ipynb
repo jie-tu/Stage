{
 "cells": [
  {
   "cell_type": "markdown",
   "id": "c341d084",
   "metadata": {},
   "source": [
    "### Qgis, centerline add length, convert to point ,add index\n",
    "```\n",
    "Algorithm 'Field calculator' starting…\n",
    "Input parameters:\n",
    "{ 'FIELD_LENGTH' : 10, 'FIELD_NAME' : 'length', 'FIELD_PRECISION' : 3, 'FIELD_TYPE' : 0, 'FORMULA' : '$length', 'INPUT' : 'G:/810_change_field/linestrings_single_clip.shp', 'OUTPUT' : 'G:/810_change_field/linestrings_single_clip_index_length.shp' }\n",
    "\n",
    "Algorithm 'Extract vertices' starting…\n",
    "Input parameters:\n",
    "{ 'INPUT' : 'G:/810_change_field/linestrings_single_clip_index_length.shp', 'OUTPUT' : 'G:/810_change_field/linestrings_single_clip_index_length_vertice.shp' }\n",
    "\n",
    "Algorithm 'Field calculator' starting…\n",
    "Input parameters:\n",
    "{ 'FIELD_LENGTH' : 10, 'FIELD_NAME' : 'index', 'FIELD_PRECISION' : 3, 'FIELD_TYPE' : 1, 'FORMULA' : '@row_number', 'INPUT' : 'G:/810_change_field/linestrings_single_clip_index_length_vertice.shp', 'OUTPUT' : 'G:/810_change_field/linestrings_single_clip_index_length_vertice_index.shp' }\n",
    "\n",
    "```\n"
   ]
  },
  {
   "cell_type": "markdown",
   "id": "32b0ce34",
   "metadata": {},
   "source": [
    "### Qgis,centerline get width, export to csv"
   ]
  },
  {
   "cell_type": "markdown",
   "id": "4386f033",
   "metadata": {},
   "source": [
    "```\n",
    "Algorithm 'Distance to nearest hub (line to hub)' starting…\n",
    "Input parameters:\n",
    "{ 'FIELD' : 'id', 'HUBS' : 'G:/811/batiment_single_polygon_clip_index_boundary_densify3_point.shp', 'INPUT' : 'G:/810_change_field/linestrings_single_clip_index_length_vertice_index.shp', 'OUTPUT' : 'G:/811/centerline_width.shp', 'UNIT' : 0 }\n",
    "```"
   ]
  },
  {
   "cell_type": "markdown",
   "id": "c53e6ada",
   "metadata": {},
   "source": [
    "### etree csv to xml"
   ]
  },
  {
   "cell_type": "code",
   "execution_count": 1,
   "id": "be2f8347",
   "metadata": {},
   "outputs": [],
   "source": [
    "import csv\n",
    "import xml.etree.ElementTree as ET"
   ]
  },
  {
   "cell_type": "code",
   "execution_count": 2,
   "id": "523d21d8",
   "metadata": {},
   "outputs": [],
   "source": [
    "root = ET.Element ('network')\n",
    "root.set('version','1.0')\n",
    "nodes=ET.SubElement(root, 'nodes')\n",
    "links=ET.SubElement(root, 'links')"
   ]
  },
  {
   "cell_type": "code",
   "execution_count": 3,
   "id": "f379bb82",
   "metadata": {},
   "outputs": [],
   "source": [
    "dict_hub = {}"
   ]
  },
  {
   "cell_type": "code",
   "execution_count": 4,
   "id": "c51c95dc",
   "metadata": {},
   "outputs": [],
   "source": [
    "with open (\"centerline_width.csv\",'rt',encoding='utf-8') as f:\n",
    "    current_group = None\n",
    "    current_hub=None\n",
    "    reader = csv.reader(f)\n",
    "    next(reader, None)\n",
    "    for row in reader :\n",
    "        WKT, FID,length, vertex_ind, vertex_par, vertex_p_1, distance, angle, index,HubName,HubDist = row\n",
    "        \n",
    "        #single_node\n",
    "        ET.SubElement(nodes, 'node',{'nodeId': index, 'geometry':WKT[19:-2].split(',')[0], 'linkId':FID, 'vertex_ind':vertex_ind})\n",
    "        #links\n",
    "        ##id length\n",
    "        if current_group is None or FID != current_group.get('linkId'):\n",
    "            current_group = ET.SubElement(links, 'link',{'linkId':FID,'length':length })\n",
    "        \n",
    "        ## nodes\n",
    "        if (vertex_ind=='0'):\n",
    "            current_link = ET.SubElement(current_group, 'nodes',{'nodeId':index})   \n",
    "        else: \n",
    "            list_nodeId = current_link.get('nodeId')\n",
    "            current_link.set('nodeId',list_nodeId+\" \"+index)\n",
    "        ## width\n",
    "        if FID not in dict_hub.keys():\n",
    "            dict_hubDist = {}\n",
    "            dict_hubDist [HubName] = HubDist\n",
    "            dict_hub[FID]= dict_hubDist\n",
    "        else:\n",
    "            if (HubName in dict_hub[FID].keys()):\n",
    "                dict_hub[FID][HubName]= dict_hub[FID][HubName] + \" \"+ HubDist\n",
    "            else:\n",
    "                dict_hub[FID][HubName]= HubDist\n",
    "            \n",
    "        "
   ]
  },
  {
   "cell_type": "code",
   "execution_count": 5,
   "id": "e3e075b5",
   "metadata": {},
   "outputs": [],
   "source": [
    "##set node1 node2 \n",
    "for link in links.findall('link'):\n",
    "    list_node = link.find('nodes').get('nodeId').split(' ')\n",
    "    link.set('node1', list_node[0])\n",
    "    link.set('node2',list_node[-1])"
   ]
  },
  {
   "cell_type": "code",
   "execution_count": 6,
   "id": "56a465c3",
   "metadata": {},
   "outputs": [],
   "source": [
    "##set list width\n",
    "for link in links.findall('link'):\n",
    "    key = link.get('linkId')\n",
    "    list_width = \"\"\n",
    "    for k, v  in dict_hub[key].items():\n",
    "        avg=0\n",
    "        list_str = v.split(' ')\n",
    "        for w in list_str:\n",
    "            avg= avg+float(w)\n",
    "        avg = avg/ len(list_str)  \n",
    "        list_width = list_width +\" \"+ str(avg)\n",
    "    ET.SubElement(link, \"width\",{'width':list_width})"
   ]
  },
  {
   "cell_type": "code",
   "execution_count": 7,
   "id": "0e7e5edf",
   "metadata": {},
   "outputs": [],
   "source": [
    "tree = ET.ElementTree(root)\n",
    "ET.indent(tree)\n",
    "tree.write('output.xml',encoding='utf-8')"
   ]
  },
  {
   "cell_type": "code",
   "execution_count": null,
   "id": "8af64bb6",
   "metadata": {},
   "outputs": [],
   "source": []
  },
  {
   "cell_type": "code",
   "execution_count": null,
   "id": "14609e3a",
   "metadata": {},
   "outputs": [],
   "source": []
  }
 ],
 "metadata": {
  "kernelspec": {
   "display_name": "Python 3 (ipykernel)",
   "language": "python",
   "name": "python3"
  },
  "language_info": {
   "codemirror_mode": {
    "name": "ipython",
    "version": 3
   },
   "file_extension": ".py",
   "mimetype": "text/x-python",
   "name": "python",
   "nbconvert_exporter": "python",
   "pygments_lexer": "ipython3",
   "version": "3.9.0"
  }
 },
 "nbformat": 4,
 "nbformat_minor": 5
}
