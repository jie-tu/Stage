{
 "cells": [
  {
   "cell_type": "markdown",
   "id": "c341d084",
   "metadata": {},
   "source": [
    "### Qgis, centerline add length, convert to point ,add index\n",
    "```\n",
    "Algorithm 'Field calculator' starting…\n",
    "Input parameters:\n",
    "{ 'FIELD_LENGTH' : 10, 'FIELD_NAME' : 'length', 'FIELD_PRECISION' : 3, 'FIELD_TYPE' : 0, 'FORMULA' : '$length', 'INPUT' : 'G:/810_change_field/linestrings_single_clip.shp', 'OUTPUT' : 'G:/810_change_field/linestrings_single_clip_index_length.shp' }\n",
    "\n",
    "Algorithm 'Extract vertices' starting…\n",
    "Input parameters:\n",
    "{ 'INPUT' : 'G:/810_change_field/linestrings_single_clip_index_length.shp', 'OUTPUT' : 'G:/810_change_field/linestrings_single_clip_index_length_vertice.shp' }\n",
    "\n",
    "Algorithm 'Field calculator' starting…\n",
    "Input parameters:\n",
    "{ 'FIELD_LENGTH' : 10, 'FIELD_NAME' : 'index', 'FIELD_PRECISION' : 3, 'FIELD_TYPE' : 1, 'FORMULA' : '@row_number', 'INPUT' : 'G:/810_change_field/linestrings_single_clip_index_length_vertice.shp', 'OUTPUT' : 'G:/810_change_field/linestrings_single_clip_index_length_vertice_index.shp' }\n",
    "\n",
    "```\n"
   ]
  },
  {
   "cell_type": "markdown",
   "id": "32b0ce34",
   "metadata": {},
   "source": [
    "### Qgis,centerline get width, export to csv"
   ]
  },
  {
   "cell_type": "markdown",
   "id": "4386f033",
   "metadata": {},
   "source": [
    "```\n",
    "Algorithm 'Distance to nearest hub (line to hub)' starting…\n",
    "Input parameters:\n",
    "{ 'FIELD' : 'id', 'HUBS' : 'G:/811/batiment_single_polygon_clip_index_boundary_densify3_point.shp', 'INPUT' : 'G:/810_change_field/linestrings_single_clip_index_length_vertice_index.shp', 'OUTPUT' : 'G:/811/centerline_width.shp', 'UNIT' : 0 }\n",
    "```"
   ]
  },
  {
   "cell_type": "markdown",
   "id": "c53e6ada",
   "metadata": {},
   "source": [
    "### etree csv to xml"
   ]
  },
  {
   "cell_type": "code",
   "execution_count": 1,
   "id": "be2f8347",
   "metadata": {},
   "outputs": [],
   "source": [
    "import csv\n",
    "import xml.etree.ElementTree as ET"
   ]
  },
  {
   "cell_type": "code",
   "execution_count": 2,
   "id": "523d21d8",
   "metadata": {},
   "outputs": [],
   "source": [
    "root = ET.Element ('network')\n",
    "root.set('version','1.0')\n",
    "nodes=ET.SubElement(root, 'nodes')\n",
    "links=ET.SubElement(root, 'links')"
   ]
  },
  {
   "cell_type": "code",
   "execution_count": 3,
   "id": "f379bb82",
   "metadata": {},
   "outputs": [],
   "source": [
    "dict_hub = {}"
   ]
  },
  {
   "cell_type": "code",
   "execution_count": 4,
   "id": "c51c95dc",
   "metadata": {},
   "outputs": [],
   "source": [
    "with open (\"centerline_width.csv\",'rt',encoding='utf-8') as f:\n",
    "    current_group = None\n",
    "    current_hub=None\n",
    "    reader = csv.reader(f)\n",
    "    next(reader, None)\n",
    "    for row in reader :\n",
    "        WKT, FID,length, vertex_ind, vertex_par, vertex_p_1, distance, angle, index,HubName,HubDist = row\n",
    "        \n",
    "        #single_node\n",
    "        ET.SubElement(nodes, 'node',{'nodeId': index, 'geometry':WKT[19:-2].split(',')[0], 'linkId':FID, 'vertex_ind':vertex_ind})\n",
    "        #links\n",
    "        ##id length\n",
    "        if current_group is None or FID != current_group.get('linkId'):\n",
    "            current_group = ET.SubElement(links, 'link',{'linkId':FID,'length':length })\n",
    "        \n",
    "        ## nodes\n",
    "        if (vertex_ind=='0'):\n",
    "            attributes = ET.SubElement(current_group,'attributes')\n",
    "            attribute = ET.SubElement(attributes, 'attribute',{'Type': 'Topology','name':'nodes','nodeId':index})   \n",
    "        else: \n",
    "            list_nodeId = attribute.get('nodeId')\n",
    "            attribute.set('nodeId',list_nodeId+\" \"+index)\n",
    "        ## width\n",
    "        if FID not in dict_hub.keys():\n",
    "            dict_hubDist = {}\n",
    "            dict_hubDist [HubName] = HubDist\n",
    "            dict_hub[FID]= dict_hubDist\n",
    "        else:\n",
    "            if (HubName in dict_hub[FID].keys()):\n",
    "                dict_hub[FID][HubName]= dict_hub[FID][HubName] + \" \"+ HubDist\n",
    "            else:\n",
    "                dict_hub[FID][HubName]= HubDist\n",
    "            \n",
    "        "
   ]
  },
  {
   "cell_type": "code",
   "execution_count": 5,
   "id": "e3e075b5",
   "metadata": {},
   "outputs": [],
   "source": [
    "##set node1 node2 \n",
    "for link in links.findall('link'):\n",
    "    for attributes in link.findall('attributes'):\n",
    "        for attribute in attributes.findall('attribute'):\n",
    "            if (attribute.get('name')=='nodes'):\n",
    "                list_node = attribute.get('nodeId').split(' ')\n",
    "                link.set('node1', list_node[0])\n",
    "                link.set('node2',list_node[-1])"
   ]
  },
  {
   "cell_type": "code",
   "execution_count": 6,
   "id": "56a465c3",
   "metadata": {},
   "outputs": [],
   "source": [
    "##set list width\n",
    "for link in links.findall('link'):\n",
    "    key = link.get('linkId')\n",
    "    list_width = \"\"\n",
    "    for k, v  in dict_hub[key].items():\n",
    "        avg=0\n",
    "        list_str = v.split(' ')\n",
    "        for w in list_str:\n",
    "            avg= avg+float(w)\n",
    "        avg = avg/ len(list_str)  \n",
    "        list_width = list_width +\" \"+ str(avg)\n",
    "    for attributes in link.findall('attributes'):\n",
    "        ET.SubElement(attributes, \"attribute\",{'Type':'Topology','name':'width','width':list_width})"
   ]
  },
  {
   "cell_type": "code",
   "execution_count": 7,
   "id": "2a05390d",
   "metadata": {},
   "outputs": [],
   "source": [
    "#add osm info to centerline"
   ]
  },
  {
   "cell_type": "code",
   "execution_count": 8,
   "id": "e24fcec9",
   "metadata": {},
   "outputs": [],
   "source": [
    "osm_info_tree = ET.parse('osm.xml')\n",
    "osm_info_root = osm_info_tree.getroot()"
   ]
  },
  {
   "cell_type": "code",
   "execution_count": 9,
   "id": "2302bd54",
   "metadata": {},
   "outputs": [],
   "source": [
    "way_to_link={}\n",
    "osm_dict ={}\n",
    "for osm_links in osm_info_root.findall('links'):\n",
    "    for osm_lk in osm_links.findall('link'):\n",
    "        \n",
    "        #attrib\n",
    "        if (osm_lk.get('edge_centrality') ==None):\n",
    "            list_attr= [osm_lk.get('freespeed'),osm_lk.get('capacity'),osm_lk.get('permlanes'),\n",
    "                    osm_lk.get('oneway'),osm_lk.get('modes'),\" \"]\n",
    "        else:\n",
    "            list_attr= [osm_lk.get('freespeed'),osm_lk.get('capacity'),osm_lk.get('permlanes'),\n",
    "                    osm_lk.get('oneway'),osm_lk.get('modes'),osm_lk.get('edge_centrality')]\n",
    "        \n",
    "        osm_dict[osm_lk.get('id')] = list_attr\n",
    "        #way id\n",
    "        for osm_attrs in osm_lk.findall('attributes'):\n",
    "            for osm_attr in osm_attrs.findall('attribute'):\n",
    "                if (osm_attr.get('name')==\"osm:way:id\"):\n",
    "                    if osm_attr.text not in way_to_link.keys():\n",
    "                        way_to_link[osm_attr.text] = [osm_lk.get('id')]\n",
    "                    else:\n",
    "                        if osm_lk.get('id') not in way_to_link[osm_attr.text]:\n",
    "                            way_to_link[osm_attr.text].append(osm_lk.get('id'))"
   ]
  },
  {
   "cell_type": "code",
   "execution_count": 10,
   "id": "3895e1ea",
   "metadata": {},
   "outputs": [
    {
     "name": "stdout",
     "output_type": "stream",
     "text": [
      "['4.166666666666667', '480.0', '1.0', '1', 'car,car_passenger', ' '] ['4.166666666666667', '480.0', '1.0', '1', 'car,car_passenger', ' '] ['4.166666666666667', '480.0', '1.0', '1', 'car,car_passenger', ' '] ['4.166666666666667', '480.0', '1.0', '1', 'car,car_passenger', ' ']\n"
     ]
    }
   ],
   "source": [
    "#print(way_to_link)\n",
    "print (osm_dict['491067'], osm_dict['491068'], osm_dict['491069'], osm_dict['491070'])\n",
    "#print (osm_dict)"
   ]
  },
  {
   "cell_type": "code",
   "execution_count": 11,
   "id": "b4a47dc7",
   "metadata": {},
   "outputs": [],
   "source": [
    "## set osm \n",
    "osm_tree = ET.parse('centerline_osmid.xml')\n",
    "osm_root = osm_tree.getroot()\n",
    "centerline_to_osm ={}\n",
    "for link in links.findall('link'):\n",
    "    #add sub element list_osm\n",
    "    for centerline in osm_root.findall('centerline'):\n",
    "        if (centerline.get('centerline_id')== link.get('linkId')):\n",
    "            #osmid\n",
    "            for attributes in link.findall('attributes'):\n",
    "                ET.SubElement(attributes, \"attribute\",{'Type':'Topology','name':'osm_way','way_id':centerline.get('osm_id')})\n",
    "                \n",
    "                for way in centerline.get('osm_id').split(' '):\n",
    "                    if way in way_to_link.keys():\n",
    "                        centerline_to_osm[link.get('linkId')]=way_to_link[way]"
   ]
  },
  {
   "cell_type": "code",
   "execution_count": 12,
   "id": "9cfecb32",
   "metadata": {},
   "outputs": [
    {
     "name": "stdout",
     "output_type": "stream",
     "text": [
      "['491067', '491068', '491069', '491070']\n"
     ]
    }
   ],
   "source": [
    "print (centerline_to_osm['26221'])"
   ]
  },
  {
   "cell_type": "code",
   "execution_count": 13,
   "id": "fdabb205",
   "metadata": {},
   "outputs": [],
   "source": [
    "## add 'freespeed','capacity','permlanes','oneway','modes'\n",
    "for link in links.findall('link'):\n",
    "    if link.get('linkId') in centerline_to_osm.keys():\n",
    "        for attributes in link.findall('attributes'):\n",
    "            \n",
    "            ET.SubElement(attributes, 'attribute',{'Type':'Topology', 'name':'osm_link','link_id': ' '.join(centerline_to_osm[link.get('linkId')])})\n",
    "            \n",
    "            parametre = ['freespeed','capacity','permlanes','oneway','modes','edge_centrality']\n",
    "            for par in parametre:\n",
    "                index = parametre.index(par)\n",
    "                for value in centerline_to_osm[link.get('linkId') ]:\n",
    "\n",
    "                    b = False\n",
    "                    a = None \n",
    "                    for attribute in attributes.findall('attribute'):\n",
    "                        attr_name = attribute.get('name')\n",
    "                        if (attr_name == par):\n",
    "                            b=True\n",
    "                            a=attribute\n",
    "                            \n",
    "                    if (b):\n",
    "                        if (a.get(par) != None):\n",
    "                            if osm_dict[value][index] !=None:\n",
    "                                a.set(par, a.get(par)+' '+ osm_dict[value][index])\n",
    "                            else:\n",
    "                                a.set(par, a.get(par)+' ')\n",
    "                        else:\n",
    "                            if osm_dict[value][index] !=None:\n",
    "                                a.set(par, ' '.join(osm_dict[value])+' ')\n",
    "                            else:\n",
    "                                a.set(par, ' ')\n",
    "                                \n",
    "                    else:\n",
    "                        a= ET.SubElement(attributes, 'attribute',{'Type':'Topology', 'name':par,par:osm_dict[value][index]})\n",
    "\n",
    "             "
   ]
  },
  {
   "cell_type": "code",
   "execution_count": null,
   "id": "fb2482fe",
   "metadata": {},
   "outputs": [],
   "source": []
  },
  {
   "cell_type": "markdown",
   "id": "627adfa7",
   "metadata": {},
   "source": [
    "### add modes"
   ]
  },
  {
   "cell_type": "markdown",
   "id": "b1c8a358",
   "metadata": {},
   "source": [
    "```\n",
    "processing.run(\"native:lineintersections\", { 'INPUT' : 'G:/809_add_subway_train/linestrings_buildings.shp', 'INPUT_FIELDS' : ['FID','vertex_ind'], 'INTERSECT' : 'G:/809_add_subway_train/bus_line.shp', 'INTERSECT_FIELDS' : ['relation_i','relation_n','osm_id'], 'INTERSECT_FIELDS_PREFIX' : '', 'OUTPUT' : 'G:/807_centerline_xml/bus_intersection.shp' })\n",
    "\n",
    "processing.run(\"native:lineintersections\", { 'INPUT' : 'G:/809_add_subway_train/linestrings_buildings.shp', 'INPUT_FIELDS' : ['FID','vertex_ind'], 'INTERSECT' : 'G:/809_add_subway_train/subway_line.shp', 'INTERSECT_FIELDS' : ['relation_i','relation_n','osm_id'], 'INTERSECT_FIELDS_PREFIX' : '', 'OUTPUT' : 'G:/807_centerline_xml/subway_intersection.shp' })\n",
    "\n",
    "processing.run(\"native:lineintersections\",{ 'INPUT' : 'G:/809_add_subway_train/linestrings_buildings.shp', 'INPUT_FIELDS' : ['FID','vertex_ind'], 'INTERSECT' : 'G:/809_add_subway_train/train_line.shp', 'INTERSECT_FIELDS' : ['relation_i','relation_n','osm_id'], 'INTERSECT_FIELDS_PREFIX' : '', 'OUTPUT' : 'G:/807_centerline_xml/train_intersection.shp' })\n",
    "\n",
    "```"
   ]
  },
  {
   "cell_type": "markdown",
   "id": "44d2f220",
   "metadata": {},
   "source": [
    "### convert shp to csv to xml"
   ]
  },
  {
   "cell_type": "code",
   "execution_count": 14,
   "id": "ef6b581c",
   "metadata": {},
   "outputs": [],
   "source": [
    "import csv"
   ]
  },
  {
   "cell_type": "code",
   "execution_count": 15,
   "id": "17aa144e",
   "metadata": {},
   "outputs": [],
   "source": [
    "dict_bus ={}\n",
    "with open (\"bus_intersection.csv\",'rt',encoding='utf-8') as f:\n",
    "    reader = csv.reader(f)\n",
    "    next(reader, None)\n",
    "    for row in reader :\n",
    "        WKT,FID,vertex_ind,relation_i,relation_n,osm_id = row\n",
    "        if FID not in dict_bus.keys():\n",
    "            dict_osm = {}\n",
    "            dict_osm [osm_id] = [{relation_i:relation_n}]\n",
    "            dict_bus[FID]= dict_osm\n",
    "        else:\n",
    "            if osm_id in dict_bus[FID].keys():\n",
    "                if {relation_i:relation_n} not in dict_bus[FID][osm_id] :\n",
    "                    dict_bus[FID][osm_id].append({relation_i:relation_n})\n",
    "            else:\n",
    "                dict_osm = {}\n",
    "                dict_osm [osm_id] = [{relation_i:relation_n}]\n",
    "                dict_bus[FID]= dict_osm"
   ]
  },
  {
   "cell_type": "code",
   "execution_count": 16,
   "id": "b059ad74",
   "metadata": {},
   "outputs": [
    {
     "name": "stdout",
     "output_type": "stream",
     "text": [
      "14 {'283473009': [{'1253894': 'Bus 72 : Gare de Lyon → Parc de Saint-Cloud'}]}\n"
     ]
    }
   ],
   "source": [
    "for key,value in dict_bus.items():\n",
    "    print(key,value)\n",
    "    break"
   ]
  },
  {
   "cell_type": "code",
   "execution_count": 17,
   "id": "d219f749",
   "metadata": {},
   "outputs": [],
   "source": [
    "dict_subway ={}\n",
    "with open (\"subway_intersection.csv\",'rt',encoding='utf-8') as f:\n",
    "    reader = csv.reader(f)\n",
    "    next(reader, None)\n",
    "    for row in reader :\n",
    "        WKT,FID,vertex_ind,relation_i,relation_n,osm_id = row\n",
    "        if FID not in dict_subway.keys():\n",
    "            dict_osm = {}\n",
    "            dict_osm [osm_id] = [{relation_i:relation_n}]\n",
    "            dict_subway[FID]= dict_osm\n",
    "        else:\n",
    "            if osm_id in dict_subway[FID].keys():\n",
    "                if {relation_i:relation_n} not in dict_subway[FID][osm_id] :\n",
    "                    dict_subway[FID][osm_id].append({relation_i:relation_n})\n",
    "            else:\n",
    "                dict_osm = {}\n",
    "                dict_osm [osm_id] = [{relation_i:relation_n}]\n",
    "                dict_subway[FID]= dict_osm    "
   ]
  },
  {
   "cell_type": "code",
   "execution_count": 18,
   "id": "4d8fcd7e",
   "metadata": {},
   "outputs": [
    {
     "name": "stdout",
     "output_type": "stream",
     "text": [
      "15 {'24380725': [{'123768': \"Métro 10: Boulogne - Pont de Saint-Cloud → Gare d'Austerlitz\"}, {'3328740': \"Métro 10: Gare d'Austerlitz → Boulogne - Pont de Saint-Cloud\"}]}\n"
     ]
    }
   ],
   "source": [
    "for key,value in dict_subway.items():\n",
    "    print(key,value)\n",
    "    break"
   ]
  },
  {
   "cell_type": "code",
   "execution_count": 19,
   "id": "9a17100a",
   "metadata": {},
   "outputs": [],
   "source": [
    "dict_train ={}\n",
    "with open (\"train_intersection.csv\",'rt',encoding='utf-8') as f:\n",
    "    reader = csv.reader(f)\n",
    "    next(reader, None)\n",
    "    for row in reader :\n",
    "        WKT,FID,vertex_ind,relation_i,relation_n,osm_id = row\n",
    "        if FID not in dict_train.keys():\n",
    "            dict_osm = {}\n",
    "            dict_osm [osm_id] = [{relation_i:relation_n}]\n",
    "            dict_train[FID]= dict_osm\n",
    "        else:\n",
    "            if osm_id in dict_train[FID].keys():\n",
    "                if {relation_i:relation_n} not in dict_train[FID][osm_id] :\n",
    "                    dict_train[FID][osm_id].append({relation_i:relation_n})\n",
    "            else:\n",
    "                dict_osm = {}\n",
    "                dict_osm [osm_id] = [{relation_i:relation_n}]\n",
    "                dict_train[FID]= dict_osm"
   ]
  },
  {
   "cell_type": "code",
   "execution_count": 20,
   "id": "00ca7403",
   "metadata": {},
   "outputs": [
    {
     "name": "stdout",
     "output_type": "stream",
     "text": [
      "711 {'181567868': [{'3047780': 'RER C Tronçon C7 - Champ de Mars - Tour Eiffel → Saint-Quentin-en-Yvelines'}, {'3049185': 'RER C Tronçon C5 - Champ de Mars - Tour Eiffel → Versailles Rive Gauche'}]}\n"
     ]
    }
   ],
   "source": [
    "for key,value in dict_train.items():\n",
    "    print(key,value)\n",
    "    break"
   ]
  },
  {
   "cell_type": "code",
   "execution_count": null,
   "id": "6914ffc8",
   "metadata": {},
   "outputs": [],
   "source": []
  },
  {
   "cell_type": "code",
   "execution_count": 22,
   "id": "dfe07ea0",
   "metadata": {},
   "outputs": [],
   "source": [
    "for link in links.findall('link'):\n",
    "    linkid = link.get('linkId')\n",
    "    \n",
    "    if linkid in dict_bus.keys():\n",
    "        \n",
    "        for attributes in link.findall('attributes'):\n",
    "            b=False\n",
    "            attr_bus=None\n",
    "            mode ='bus'\n",
    "\n",
    "            for way_id , ligne in dict_bus[linkid].items():\n",
    "                for lg in ligne:\n",
    "                    for relation_i, relation_n in lg.items():\n",
    "                        \n",
    "                        for attribute in attributes.findall('attribute'):\n",
    "                            if (attribute.get('name')==mode):\n",
    "                                b=True\n",
    "                                attr_bus=attribute\n",
    "                                break\n",
    "                        \n",
    "                        ligne_name=relation_n.split(' ')\n",
    "                        if (b):\n",
    "                            attr_bus.set(mode, attr_bus.get(mode)+' '+ 'lingeId:'+relation_i+','+ligne_name[0]+':'+ligne_name[1])\n",
    "                        else:\n",
    "                            ET.SubElement(attributes, 'attribute',{'Type':'Transport','name':mode,mode: 'lingeId:'+relation_i+','+ligne_name[0]+':'+ligne_name[1]})"
   ]
  },
  {
   "cell_type": "code",
   "execution_count": 23,
   "id": "e5ded099",
   "metadata": {},
   "outputs": [],
   "source": [
    "for link in links.findall('link'):\n",
    "    linkid = link.get('linkId')\n",
    "    \n",
    "    if linkid in dict_subway.keys():\n",
    "        \n",
    "        for attributes in link.findall('attributes'):\n",
    "            b=False\n",
    "            attr_subway=None\n",
    "            mode ='subway'\n",
    "\n",
    "            for way_id , ligne in dict_subway[linkid].items():\n",
    "                for lg in ligne:\n",
    "                    for relation_i, relation_n in lg.items():\n",
    "                        \n",
    "                        for attribute in attributes.findall('attribute'):\n",
    "                            if (attribute.get('name')==mode):\n",
    "                                b=True\n",
    "                                attr_subway=attribute\n",
    "                                break\n",
    "                        \n",
    "                        ligne_name=relation_n.split(' ')\n",
    "                        if (b):\n",
    "                            attr_subway.set(mode, attr_subway.get(mode)+' '+ 'lingeId:'+relation_i+','+ligne_name[0]+':'+ligne_name[1])\n",
    "                        else:\n",
    "                            ET.SubElement(attributes, 'attribute',{'Type':'Transport','name':mode,mode: 'lingeId:'+relation_i+','+ligne_name[0]+':'+ligne_name[1]})"
   ]
  },
  {
   "cell_type": "code",
   "execution_count": 24,
   "id": "dbbc8560",
   "metadata": {},
   "outputs": [],
   "source": [
    "for link in links.findall('link'):\n",
    "    linkid = link.get('linkId')\n",
    "    \n",
    "    if linkid in dict_train.keys():\n",
    "        \n",
    "        for attributes in link.findall('attributes'):\n",
    "            b=False\n",
    "            attr_train=None\n",
    "            mode ='train'\n",
    "\n",
    "            for way_id , ligne in dict_train[linkid].items():\n",
    "                for lg in ligne:\n",
    "                    for relation_i, relation_n in lg.items():\n",
    "                        \n",
    "                        for attribute in attributes.findall('attribute'):\n",
    "                            if (attribute.get('name')==mode):\n",
    "                                b=True\n",
    "                                attr_train=attribute\n",
    "                                break\n",
    "                        \n",
    "                        ligne_name=relation_n.split(' ')\n",
    "                        if (b):\n",
    "                            attr_train.set(mode, attr_train.get(mode)+' '+ 'lingeId:'+relation_i+','+ligne_name[0]+':'+ligne_name[1])\n",
    "                        else:\n",
    "                            ET.SubElement(attributes, 'attribute',{'Type':'Transport','name':mode,mode: 'lingeId:'+relation_i+','+ligne_name[0]+':'+ligne_name[1]})"
   ]
  },
  {
   "cell_type": "code",
   "execution_count": null,
   "id": "b892f3f3",
   "metadata": {},
   "outputs": [],
   "source": []
  },
  {
   "cell_type": "code",
   "execution_count": 25,
   "id": "0e7e5edf",
   "metadata": {},
   "outputs": [],
   "source": [
    "tree = ET.ElementTree(root)\n",
    "ET.indent(tree)\n",
    "tree.write('output.xml',encoding='utf-8')"
   ]
  },
  {
   "cell_type": "markdown",
   "id": "1b3a6ae3",
   "metadata": {},
   "source": [
    "```\n",
    "    <link linkId=\"24173\" length=\"9.344\" node1=\"1207167\" node2=\"1207173\">\n",
    "      <attributes>\n",
    "        <attribute Type=\"Topology\" name=\"nodes\" nodeId=\"1207167 1207168 1207169 1207170 1207171 1207172 1207173\" />\n",
    "        <attribute Type=\"Topology\" name=\"width\" width=\" 33.71445229286025 33.6275770990463\" />\n",
    "        <attribute Type=\"Topology\" name=\"osm_way\" way_id=\"193939965 4039025 13424116 178828670\" />\n",
    "        <attribute Type=\"Topology\" name=\"osm_link\" link_id=\"81526 81527\" />\n",
    "        <attribute Type=\"Topology\" name=\"freespeed\" freespeed=\"8.333333333333334 8.333333333333334\" />\n",
    "        <attribute Type=\"Topology\" name=\"capacity\" capacity=\"3600.0 3600.0\" />\n",
    "        <attribute Type=\"Topology\" name=\"permlanes\" permlanes=\"3.0 3.0\" />\n",
    "        <attribute Type=\"Topology\" name=\"oneway\" oneway=\"1 1\" />\n",
    "        <attribute Type=\"Topology\" name=\"modes\" modes=\"car,pt,bus,car_passenger car,pt,bus,car_passenger\" />\n",
    "        <attribute Type=\"Topology\" name=\"edge_centrality\" edge_centrality=\"0.020743958138208868 0.020442535203547017\" />\n",
    "        <attribute Type=\"Transport\" name=\"bus\" bus=\"lingeId:1255723,Bus:29 lingeId:1257181,Bus:56\" />\n",
    "        <attribute Type=\"Transport\" name=\"subway\" subway=\"lingeId:3328764,Métro:6\" />\n",
    "        <attribute Type=\"Transport\" name=\"train\" train=\"lingeId:2333438,RER:A1 lingeId:2333440,RER:A1 lingeId:2333442,RER:A3 lingeId:2333445,RER:A3 lingeId:2333447,RER:A5 lingeId:3012957,RER:A5\" />\n",
    "      </attributes>\n",
    "    </link>\n",
    "\n",
    "```"
   ]
  },
  {
   "cell_type": "code",
   "execution_count": null,
   "id": "14609e3a",
   "metadata": {},
   "outputs": [],
   "source": []
  }
 ],
 "metadata": {
  "kernelspec": {
   "display_name": "Python 3 (ipykernel)",
   "language": "python",
   "name": "python3"
  },
  "language_info": {
   "codemirror_mode": {
    "name": "ipython",
    "version": 3
   },
   "file_extension": ".py",
   "mimetype": "text/x-python",
   "name": "python",
   "nbconvert_exporter": "python",
   "pygments_lexer": "ipython3",
   "version": "3.9.0"
  }
 },
 "nbformat": 4,
 "nbformat_minor": 5
}
