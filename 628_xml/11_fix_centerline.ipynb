{
 "cells": [
  {
   "cell_type": "markdown",
   "id": "c341d084",
   "metadata": {},
   "source": [
    "### Qgis, centerline add length, convert to point ,add index\n",
    "```\n",
    "Algorithm 'Field calculator' starting…\n",
    "Input parameters:\n",
    "{ 'FIELD_LENGTH' : 10, 'FIELD_NAME' : 'length', 'FIELD_PRECISION' : 3, 'FIELD_TYPE' : 0, 'FORMULA' : '$length', 'INPUT' : 'G:/810_change_field/linestrings_single_clip.shp', 'OUTPUT' : 'G:/810_change_field/linestrings_single_clip_index_length.shp' }\n",
    "\n",
    "Algorithm 'Extract vertices' starting…\n",
    "Input parameters:\n",
    "{ 'INPUT' : 'G:/810_change_field/linestrings_single_clip_index_length.shp', 'OUTPUT' : 'G:/810_change_field/linestrings_single_clip_index_length_vertice.shp' }\n",
    "\n",
    "Algorithm 'Field calculator' starting…\n",
    "Input parameters:\n",
    "{ 'FIELD_LENGTH' : 10, 'FIELD_NAME' : 'index', 'FIELD_PRECISION' : 3, 'FIELD_TYPE' : 1, 'FORMULA' : '@row_number', 'INPUT' : 'G:/810_change_field/linestrings_single_clip_index_length_vertice.shp', 'OUTPUT' : 'G:/810_change_field/linestrings_single_clip_index_length_vertice_index.shp' }\n",
    "\n",
    "```\n"
   ]
  },
  {
   "cell_type": "markdown",
   "id": "32b0ce34",
   "metadata": {},
   "source": [
    "### Qgis,centerline get width, export to csv"
   ]
  },
  {
   "cell_type": "markdown",
   "id": "4386f033",
   "metadata": {},
   "source": [
    "```\n",
    "Algorithm 'Distance to nearest hub (line to hub)' starting…\n",
    "Input parameters:\n",
    "{ 'FIELD' : 'id', 'HUBS' : 'G:/811/batiment_single_polygon_clip_index_boundary_densify3_point.shp', 'INPUT' : 'G:/810_change_field/linestrings_single_clip_index_length_vertice_index.shp', 'OUTPUT' : 'G:/811/centerline_width.shp', 'UNIT' : 0 }\n",
    "```"
   ]
  },
  {
   "cell_type": "markdown",
   "id": "c53e6ada",
   "metadata": {},
   "source": [
    "### etree csv to xml"
   ]
  },
  {
   "cell_type": "code",
   "execution_count": 1,
   "id": "be2f8347",
   "metadata": {},
   "outputs": [],
   "source": [
    "import csv\n",
    "import xml.etree.ElementTree as ET"
   ]
  },
  {
   "cell_type": "code",
   "execution_count": 2,
   "id": "523d21d8",
   "metadata": {},
   "outputs": [],
   "source": [
    "root = ET.Element ('network')\n",
    "root.set('version','1.0')\n",
    "nodes=ET.SubElement(root, 'nodes')\n",
    "links=ET.SubElement(root, 'links')"
   ]
  },
  {
   "cell_type": "code",
   "execution_count": 3,
   "id": "f379bb82",
   "metadata": {},
   "outputs": [],
   "source": [
    "dict_hub = {}"
   ]
  },
  {
   "cell_type": "code",
   "execution_count": 4,
   "id": "c51c95dc",
   "metadata": {},
   "outputs": [],
   "source": [
    "with open (\"centerline_width.csv\",'rt',encoding='utf-8') as f:\n",
    "    current_group = None\n",
    "    current_hub=None\n",
    "    reader = csv.reader(f)\n",
    "    next(reader, None)\n",
    "    for row in reader :\n",
    "        WKT, FID,length, vertex_ind, vertex_par, vertex_p_1, distance, angle, index,HubName,HubDist = row\n",
    "        \n",
    "        #single_node\n",
    "        ET.SubElement(nodes, 'node',{'nodeId': index, 'geometry':WKT[19:-2].split(',')[0], 'linkId':FID, 'vertex_ind':vertex_ind})\n",
    "        #links\n",
    "        ##id length\n",
    "        if current_group is None or FID != current_group.get('linkId'):\n",
    "            current_group = ET.SubElement(links, 'link',{'linkId':FID,'length':length })\n",
    "        \n",
    "        ## nodes\n",
    "        if (vertex_ind=='0'):\n",
    "            attributes = ET.SubElement(current_group,'attributes')\n",
    "            attribute = ET.SubElement(attributes, 'attribute',{'Type': 'Topology','name':'nodes','nodeId':index})   \n",
    "        else: \n",
    "            list_nodeId = attribute.get('nodeId')\n",
    "            attribute.set('nodeId',list_nodeId+\" \"+index)\n",
    "        ## width\n",
    "        if FID not in dict_hub.keys():\n",
    "            dict_hubDist = {}\n",
    "            dict_hubDist [HubName] = HubDist\n",
    "            dict_hub[FID]= dict_hubDist\n",
    "        else:\n",
    "            if (HubName in dict_hub[FID].keys()):\n",
    "                dict_hub[FID][HubName]= dict_hub[FID][HubName] + \" \"+ HubDist\n",
    "            else:\n",
    "                dict_hub[FID][HubName]= HubDist\n",
    "            \n",
    "        "
   ]
  },
  {
   "cell_type": "code",
   "execution_count": 5,
   "id": "e3e075b5",
   "metadata": {},
   "outputs": [],
   "source": [
    "##set node1 node2 \n",
    "for link in links.findall('link'):\n",
    "    for attributes in link.findall('attributes'):\n",
    "        for attribute in attributes.findall('attribute'):\n",
    "            if (attribute.get('name')=='nodes'):\n",
    "                list_node = attribute.get('nodeId').split(' ')\n",
    "                link.set('node1', list_node[0])\n",
    "                link.set('node2',list_node[-1])"
   ]
  },
  {
   "cell_type": "code",
   "execution_count": 6,
   "id": "56a465c3",
   "metadata": {},
   "outputs": [],
   "source": [
    "##set list width\n",
    "for link in links.findall('link'):\n",
    "    key = link.get('linkId')\n",
    "    list_width = \"\"\n",
    "    for k, v  in dict_hub[key].items():\n",
    "        avg=0\n",
    "        list_str = v.split(' ')\n",
    "        for w in list_str:\n",
    "            avg= avg+float(w)\n",
    "        avg = avg/ len(list_str)  \n",
    "        list_width = list_width +\" \"+ str(avg)\n",
    "    for attributes in link.findall('attributes'):\n",
    "        ET.SubElement(attributes, \"attribute\",{'Type':'Topology','name':'width','width':list_width})"
   ]
  },
  {
   "cell_type": "code",
   "execution_count": 7,
   "id": "2a05390d",
   "metadata": {},
   "outputs": [],
   "source": [
    "#add osm info to centerline"
   ]
  },
  {
   "cell_type": "code",
   "execution_count": 8,
   "id": "e24fcec9",
   "metadata": {},
   "outputs": [],
   "source": [
    "osm_info_tree = ET.parse('osm.xml')\n",
    "osm_info_root = osm_info_tree.getroot()"
   ]
  },
  {
   "cell_type": "code",
   "execution_count": 9,
   "id": "2302bd54",
   "metadata": {},
   "outputs": [],
   "source": [
    "way_to_link={}\n",
    "osm_dict ={}\n",
    "for osm_links in osm_info_root.findall('links'):\n",
    "    for osm_lk in osm_links.findall('link'):\n",
    "        \n",
    "        #attrib\n",
    "        list_attr= [osm_lk.get('freespeed'),osm_lk.get('capacity'),osm_lk.get('permlanes'),\n",
    "                    osm_lk.get('oneway'),osm_lk.get('modes')]\n",
    "        osm_dict[osm_lk.get('id')] = list_attr\n",
    "        #way id\n",
    "        for osm_attrs in osm_lk.findall('attributes'):\n",
    "            for osm_attr in osm_attrs.findall('attribute'):\n",
    "                if (osm_attr.get('name')==\"osm:way:id\"):\n",
    "                    if osm_attr.text not in way_to_link.keys():\n",
    "                        way_to_link[osm_attr.text] = [osm_lk.get('id')]\n",
    "                    else:\n",
    "                        if osm_lk.get('id') not in way_to_link[osm_attr.text]:\n",
    "                            way_to_link[osm_attr.text].append(osm_lk.get('id'))"
   ]
  },
  {
   "cell_type": "code",
   "execution_count": 10,
   "id": "3895e1ea",
   "metadata": {},
   "outputs": [
    {
     "name": "stdout",
     "output_type": "stream",
     "text": [
      "['4.166666666666667', '480.0', '1.0', '1', 'car,car_passenger'] ['4.166666666666667', '480.0', '1.0', '1', 'car,car_passenger'] ['4.166666666666667', '480.0', '1.0', '1', 'car,car_passenger'] ['4.166666666666667', '480.0', '1.0', '1', 'car,car_passenger']\n"
     ]
    }
   ],
   "source": [
    "#print(way_to_link)\n",
    "print (osm_dict['491067'], osm_dict['491068'], osm_dict['491069'], osm_dict['491070'])\n",
    "#print (osm_dict)"
   ]
  },
  {
   "cell_type": "code",
   "execution_count": 11,
   "id": "b4a47dc7",
   "metadata": {},
   "outputs": [],
   "source": [
    "## set osm \n",
    "osm_tree = ET.parse('centerline_osmid.xml')\n",
    "osm_root = osm_tree.getroot()\n",
    "centerline_to_osm ={}\n",
    "for link in links.findall('link'):\n",
    "    #add sub element list_osm\n",
    "    for centerline in osm_root.findall('centerline'):\n",
    "        if (centerline.get('centerline_id')== link.get('linkId')):\n",
    "            #osmid\n",
    "            for attributes in link.findall('attributes'):\n",
    "                ET.SubElement(attributes, \"attribute\",{'Type':'Topology','name':'osm_way','way_id':centerline.get('osm_id')})\n",
    "                \n",
    "                for way in centerline.get('osm_id').split(' '):\n",
    "                    if way in way_to_link.keys():\n",
    "                        centerline_to_osm[link.get('linkId')]=way_to_link[way]"
   ]
  },
  {
   "cell_type": "code",
   "execution_count": 12,
   "id": "9cfecb32",
   "metadata": {},
   "outputs": [
    {
     "name": "stdout",
     "output_type": "stream",
     "text": [
      "['491067', '491068', '491069', '491070']\n"
     ]
    }
   ],
   "source": [
    "print (centerline_to_osm['26221'])"
   ]
  },
  {
   "cell_type": "code",
   "execution_count": 13,
   "id": "fdabb205",
   "metadata": {},
   "outputs": [],
   "source": [
    "for link in links.findall('link'):\n",
    "    if link.get('linkId') in centerline_to_osm.keys():\n",
    "        for attributes in link.findall('attributes'):\n",
    "            \n",
    "            ET.SubElement(attributes, 'attribute',{'Type':'Topology', 'name':'osm_link','link_id': ' '.join(centerline_to_osm[link.get('linkId')])})\n",
    "            \n",
    "            parametre = ['freespeed','capacity','permlanes','oneway','modes']\n",
    "            for par in parametre:\n",
    "                index = parametre.index(par)\n",
    "                for value in centerline_to_osm[link.get('linkId') ]:\n",
    "\n",
    "                    b = False\n",
    "                    a = None \n",
    "                    for attribute in attributes.findall('attribute'):\n",
    "                        attr_name = attribute.get('name')\n",
    "                        if (attr_name == par):\n",
    "                            b=True\n",
    "                            a=attribute\n",
    "                            \n",
    "                    if (b):\n",
    "                        a.set(par, a.get(par)+' '+ osm_dict[value][index])\n",
    "                    else:\n",
    "                        a= ET.SubElement(attributes, 'attribute',{'Type':'Topology', 'name':par,par:osm_dict[value][index]})\n",
    "\n",
    "             "
   ]
  },
  {
   "cell_type": "code",
   "execution_count": 14,
   "id": "0e7e5edf",
   "metadata": {},
   "outputs": [],
   "source": [
    "tree = ET.ElementTree(root)\n",
    "ET.indent(tree)\n",
    "tree.write('output.xml',encoding='utf-8')"
   ]
  },
  {
   "cell_type": "code",
   "execution_count": null,
   "id": "8af64bb6",
   "metadata": {},
   "outputs": [],
   "source": []
  },
  {
   "cell_type": "code",
   "execution_count": null,
   "id": "14609e3a",
   "metadata": {},
   "outputs": [],
   "source": []
  }
 ],
 "metadata": {
  "kernelspec": {
   "display_name": "Python 3 (ipykernel)",
   "language": "python",
   "name": "python3"
  },
  "language_info": {
   "codemirror_mode": {
    "name": "ipython",
    "version": 3
   },
   "file_extension": ".py",
   "mimetype": "text/x-python",
   "name": "python",
   "nbconvert_exporter": "python",
   "pygments_lexer": "ipython3",
   "version": "3.9.0"
  }
 },
 "nbformat": 4,
 "nbformat_minor": 5
}
