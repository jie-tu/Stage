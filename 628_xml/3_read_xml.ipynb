{
 "cells": [
  {
   "cell_type": "code",
   "execution_count": 1,
   "id": "c80ba054",
   "metadata": {},
   "outputs": [],
   "source": [
    "import xml.etree.ElementTree as ET\n",
    "tree = ET.parse('output_network.xml')\n",
    "root = tree.getroot()"
   ]
  },
  {
   "cell_type": "code",
   "execution_count": 2,
   "id": "84e8eb37",
   "metadata": {},
   "outputs": [
    {
     "data": {
      "text/plain": [
       "'network'"
      ]
     },
     "execution_count": 2,
     "metadata": {},
     "output_type": "execute_result"
    }
   ],
   "source": [
    "root.tag"
   ]
  },
  {
   "cell_type": "code",
   "execution_count": 3,
   "id": "212fa0d4",
   "metadata": {},
   "outputs": [
    {
     "name": "stdout",
     "output_type": "stream",
     "text": [
      "attributes {}\n",
      "nodes {}\n",
      "links {'capperiod': '01:00:00', 'effectivecellsize': '7.5', 'effectivelanewidth': '3.75'}\n"
     ]
    }
   ],
   "source": [
    "for child in root:\n",
    "    print(child.tag, child.attrib)"
   ]
  },
  {
   "cell_type": "code",
   "execution_count": 4,
   "id": "2a830eb9",
   "metadata": {},
   "outputs": [
    {
     "name": "stdout",
     "output_type": "stream",
     "text": [
      "{'capperiod': '01:00:00', 'effectivecellsize': '7.5', 'effectivelanewidth': '3.75'}\n",
      "\n",
      "{'id': '100003', 'from': '3686921239', 'to': '3219846389', 'length': '8.333333333333334', 'freespeed': '8.333333333333334', 'capacity': '2400.0', 'permlanes': '2.0', 'oneway': '1', 'modes': 'car,pt,bus,car_passenger'}\n",
      "{'name': 'isUrban', 'class': 'java.lang.Boolean'} true\n",
      "{'name': 'osm:relation:route', 'class': 'java.lang.String'} bus,bicycle\n",
      "{'name': 'osm:way:highway', 'class': 'java.lang.String'} primary\n",
      "{'name': 'osm:way:id', 'class': 'java.lang.Long'} 364649040\n",
      "{'name': 'osm:way:lanes', 'class': 'java.lang.String'} 2\n",
      "{'name': 'osm:way:name', 'class': 'java.lang.String'} Place des Ternes\n",
      "{'name': 'osm:way:oneway', 'class': 'java.lang.String'} yes\n",
      "{'name': 'storageCapacityUsedInQsim', 'class': 'java.lang.Double'} 0.6666666666666666\n"
     ]
    }
   ],
   "source": [
    "for links in root.findall('links'):\n",
    "    print (links.attrib)\n",
    "    print ()\n",
    "    lks = links.findall('link')\n",
    "    \n",
    "    for lk in lks:     \n",
    "        print(lk.attrib)\n",
    "        for attrs in lk.findall('attributes'):\n",
    "            for attr in attrs.findall('attribute'):\n",
    "                print (attr.attrib,attr.text)\n",
    "        break\n",
    "            "
   ]
  },
  {
   "cell_type": "code",
   "execution_count": null,
   "id": "dd8d6859",
   "metadata": {},
   "outputs": [],
   "source": []
  }
 ],
 "metadata": {
  "kernelspec": {
   "display_name": "Python 3 (ipykernel)",
   "language": "python",
   "name": "python3"
  },
  "language_info": {
   "codemirror_mode": {
    "name": "ipython",
    "version": 3
   },
   "file_extension": ".py",
   "mimetype": "text/x-python",
   "name": "python",
   "nbconvert_exporter": "python",
   "pygments_lexer": "ipython3",
   "version": "3.9.0"
  }
 },
 "nbformat": 4,
 "nbformat_minor": 5
}
