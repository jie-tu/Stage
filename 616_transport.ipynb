{
 "cells": [
  {
   "cell_type": "markdown",
   "id": "d2127801",
   "metadata": {},
   "source": [
    "## import overpy"
   ]
  },
  {
   "cell_type": "code",
   "execution_count": 1,
   "id": "a171b815",
   "metadata": {},
   "outputs": [],
   "source": [
    "import overpy\n",
    "api = overpy.Overpass()"
   ]
  },
  {
   "cell_type": "markdown",
   "id": "ccfeb157",
   "metadata": {},
   "source": [
    "## download file from overpass api "
   ]
  },
  {
   "cell_type": "markdown",
   "id": "c24244a9",
   "metadata": {},
   "source": [
    "## or load file from disk"
   ]
  },
  {
   "cell_type": "code",
   "execution_count": 2,
   "id": "d9ec4368",
   "metadata": {
    "scrolled": true
   },
   "outputs": [],
   "source": [
    "file = open(\"interpreter\", encoding='utf-8')\n",
    "result = api.parse_xml(file.read(), encoding='utf-8', parser=None)"
   ]
  },
  {
   "cell_type": "markdown",
   "id": "86f1d61a",
   "metadata": {},
   "source": [
    "## get all transport line, "
   ]
  },
  {
   "cell_type": "code",
   "execution_count": 3,
   "id": "59430f85",
   "metadata": {},
   "outputs": [],
   "source": [
    "#transport = 'train'\n",
    "#transport = 'bus'\n",
    "transport = 'subway'"
   ]
  },
  {
   "cell_type": "code",
   "execution_count": 4,
   "id": "e360dd46",
   "metadata": {},
   "outputs": [],
   "source": [
    "relation_transport= {}\n",
    "for relation in result.relations:\n",
    "    for member in relation.members:\n",
    "        if 'route' in relation.tags.keys():\n",
    "            if transport in relation.tags['route']:\n",
    "                relation_transport [relation.id]= relation.tags['name']"
   ]
  },
  {
   "cell_type": "code",
   "execution_count": 5,
   "id": "8ecac80a",
   "metadata": {},
   "outputs": [
    {
     "name": "stdout",
     "output_type": "stream",
     "text": [
      "Métro 8 : Créteil-Pointe du Lac → Balard\n",
      "Métro 7: La Courneuve - 8 mai 1945 → Mairie d'Ivry\n",
      "Métro 5 : Bobigny-Pablo Picasso → Place d'Italie\n",
      "Métro 14 : Mairie de Saint-Ouen → Olympiades\n",
      "Métro 4 : Porte de Clignancourt → Bagneux-Lucie Aubrac\n",
      "Métro 10: Boulogne - Pont de Saint-Cloud → Gare d'Austerlitz\n",
      "Métro 12 : Mairie d'Aubervilliers → Mairie d'Issy\n",
      "Métro 9 : Pont de Sèvres → Mairie de Montreuil\n",
      "Métro 1 : Château de Vincennes → La Défense (Grande Arche)\n",
      "Métro 3: Pont de Levallois – Bécon → Gallieni\n",
      "Métro 11: Châtelet → Mairie des Lilas\n",
      "Métro 13: Saint-Denis-Université → Châtillon-Montrouge\n",
      "Métro 3bis: Porte des Lilas → Gambetta\n",
      "Métro 6 : Charles de Gaulle-Étoile → Nation\n",
      "Métro 2 : Nation → Porte Dauphine\n",
      "Métro 7 bis\n",
      "Métro 4 : Bagneux-Lucie Aubrac → Porte de Clignancourt\n",
      "Métro 1 : La Défense (Grande Arche) → Château de Vincennes\n",
      "Métro 14 : Olympiades → Mairie de Saint-Ouen\n",
      "Métro 9 : Mairie de Montreuil → Pont de Sèvres\n",
      "Métro 10: Gare d'Austerlitz → Boulogne - Pont de Saint-Cloud\n",
      "Métro 6 : Nation → Charles de Gaulle-Étoile\n",
      "Métro 7: Mairie d'Ivry → La Courneuve - 8 mai 1945\n",
      "Métro 7 : Villejuif - Louis Aragon → La Courneuve - 8 mai 1945\n",
      "Métro 7 : La Courneuve - 8 mai 1945 → Villejuif - Louis Aragon\n",
      "Métro 2 : Porte Dauphine → Nation\n",
      "Métro 5 : Place d'Italie → Bobigny-Pablo Picasso\n",
      "Métro 3bis: Gambetta → Porte des Lilas\n",
      "Métro 11: Mairie des Lilas → Châtelet\n",
      "Métro 12 : Mairie d'Issy → Mairie d'Aubervilliers\n",
      "Métro 8 : Balard → Créteil - Pointe du Lac\n",
      "Métro 13: Châtillon-Montrouge → Saint-Denis-Université\n",
      "Métro 13: Châtillon-Montrouge → (Asnières-Genevilliers) Les Courtilles\n",
      "Métro 13: (Asnières-Genevilliers) Les Courtilles → Châtillon-Montrouge\n",
      "Métro 3: Gallieni → Pont de Levallois – Bécon\n"
     ]
    }
   ],
   "source": [
    "for key in relation_transport:\n",
    "    print (relation_transport[key])"
   ]
  },
  {
   "cell_type": "markdown",
   "id": "ee04e939",
   "metadata": {},
   "source": [
    "## get relations from transport id"
   ]
  },
  {
   "cell_type": "code",
   "execution_count": 6,
   "id": "6fa3f21c",
   "metadata": {},
   "outputs": [],
   "source": [
    "transport_to_relation= {}\n",
    "for relation in result.relations:\n",
    "    if 'route' in relation.tags.keys():\n",
    "        if transport in relation.tags['route']:\n",
    "            for member in relation.members:\n",
    "                if(member.role=='stop'):\n",
    "                    if member.ref in transport_to_relation :\n",
    "                        transport_to_relation [member.ref].append(relation.id)\n",
    "                    else:\n",
    "                        transport_to_relation [member.ref] = [relation.id]\n",
    "                    "
   ]
  },
  {
   "cell_type": "code",
   "execution_count": 7,
   "id": "a0a7a3a1",
   "metadata": {},
   "outputs": [],
   "source": [
    "#transport_to_relation"
   ]
  },
  {
   "cell_type": "code",
   "execution_count": 8,
   "id": "d386c4e4",
   "metadata": {},
   "outputs": [
    {
     "name": "stdout",
     "output_type": "stream",
     "text": [
      "[]\n"
     ]
    }
   ],
   "source": [
    "for key in transport_to_relation:\n",
    "    node = result.get_nodes(key)\n",
    "    print (node)\n",
    "    if (node):\n",
    "        print (node[0].lat, node[0].lon)\n",
    "    break"
   ]
  },
  {
   "cell_type": "markdown",
   "id": "887d0b7a",
   "metadata": {},
   "source": [
    "## get relation from way id "
   ]
  },
  {
   "cell_type": "code",
   "execution_count": 9,
   "id": "ef8eb5e0",
   "metadata": {},
   "outputs": [],
   "source": [
    "way_to_relation= {}\n",
    "for relation in result.relations:\n",
    "    if 'route' in relation.tags.keys():\n",
    "        if transport in relation.tags['route']:\n",
    "            for member in relation.members:\n",
    "                if(member.role==None):\n",
    "                    if member.ref in way_to_relation :\n",
    "                        way_to_relation [member.ref].append(relation.id)\n",
    "                    else:\n",
    "                        way_to_relation [member.ref] = [relation.id]"
   ]
  },
  {
   "cell_type": "code",
   "execution_count": 10,
   "id": "2d0aa8bc",
   "metadata": {},
   "outputs": [],
   "source": [
    "#way_to_relation"
   ]
  },
  {
   "cell_type": "markdown",
   "id": "7598bdde",
   "metadata": {},
   "source": [
    "##  create point layer by using Fiona"
   ]
  },
  {
   "cell_type": "code",
   "execution_count": 11,
   "id": "6e339c2a",
   "metadata": {},
   "outputs": [],
   "source": [
    "import fiona"
   ]
  },
  {
   "cell_type": "code",
   "execution_count": 12,
   "id": "43ade48d",
   "metadata": {
    "scrolled": true
   },
   "outputs": [
    {
     "name": "stdout",
     "output_type": "stream",
     "text": [
      "subway_line.shp\n"
     ]
    }
   ],
   "source": [
    "# define schema\n",
    "schema = {\n",
    "    'geometry':'LineString',\n",
    "    'properties':[('relation_id','int'),('relation_name','str') ,('osm_id','int')]\n",
    "}\n",
    "\n",
    "file = transport + \"_line.shp\"\n",
    "print (file)\n",
    "LineStringShp = fiona.open(file, mode='w', driver='ESRI Shapefile',schema = schema, crs = \"EPSG:4326\")\n",
    "#iterate over each row in the dataframe and save record\n",
    "for key in way_to_relation:\n",
    "    try : \n",
    "        ways = result.get_way(key)\n",
    "        if (ways):\n",
    "            for i in way_to_relation[key]:\n",
    "                line_geom = []\n",
    "                nodes =  ways.get_nodes()\n",
    "                if (nodes):\n",
    "                    for node in nodes:\n",
    "                        node_geom = (node.lon, node.lat)\n",
    "                        line_geom.append (node_geom)\n",
    "                #print (line_geom)\n",
    "                    rowDict = {\n",
    "                        'geometry' : {'type':'LineString','coordinates': line_geom },\n",
    "                        'properties': {  'relation_id': i , 'relation_name' : relation_transport[i] , 'osm_id' : ways.id},\n",
    "                    }\n",
    "                    LineStringShp.write(rowDict)\n",
    "    except:\n",
    "        continue\n",
    "\n",
    "#close fiona object\n",
    "LineStringShp.close()"
   ]
  },
  {
   "cell_type": "code",
   "execution_count": 13,
   "id": "35bd3705",
   "metadata": {
    "scrolled": true
   },
   "outputs": [
    {
     "name": "stdout",
     "output_type": "stream",
     "text": [
      "subway_stop.shp\n"
     ]
    }
   ],
   "source": [
    "# define schema\n",
    "schema = {\n",
    "    'geometry':'Point',\n",
    "    'properties':[('relation_id','int'),('relation_name','str') ,('osm_id','int')]\n",
    "}\n",
    "\n",
    "file = transport + \"_stop.shp\"\n",
    "print (file)\n",
    "pointShp = fiona.open(file, mode='w', driver='ESRI Shapefile',schema = schema, crs = \"EPSG:4326\")\n",
    "#iterate over each row in the dataframe and save record\n",
    "for key in transport_to_relation:\n",
    "    node = result.get_nodes(key)\n",
    "    if (node):\n",
    "        for i in transport_to_relation[key]:\n",
    "            rowDict = {\n",
    "                'geometry' : {'type':'Point','coordinates': (node[0].lon,node[0].lat)},\n",
    "                'properties': {  'relation_id': i , 'relation_name' : relation_transport[i] , 'osm_id' : node[0].id},\n",
    "            }\n",
    "            pointShp.write(rowDict)\n",
    "    \n",
    "#close fiona object\n",
    "pointShp.close()"
   ]
  },
  {
   "cell_type": "markdown",
   "id": "ea368c08",
   "metadata": {},
   "source": [
    "## point.shp"
   ]
  },
  {
   "cell_type": "markdown",
   "id": "3c7b05de",
   "metadata": {},
   "source": [
    "| relation_id| relation_name | osm_id |\n",
    "| --- | --- | --- |\n",
    "| 1255723 | Bus 29 : Porte de Montempoivre ? Gare Saint-Lazare | 2042462222 |\n",
    "| 1255729 | Bus 29 : Gare Saint-Lazare ? Porte de Montempoivre | 2042462222 |"
   ]
  },
  {
   "cell_type": "markdown",
   "id": "edc3423f",
   "metadata": {},
   "source": [
    "## find the nearly building for each point, add the info to the building"
   ]
  },
  {
   "cell_type": "markdown",
   "id": "ccd33a71",
   "metadata": {},
   "source": [
    "hub_distance{ 'FIELD' : 'osm_id', 'HUBS' : 'batiment_converted.shp', 'INPUT' : 'point.shp', 'OUTPUT' : 'TEMPORARY_OUTPUT', 'UNIT' : 0 }"
   ]
  },
  {
   "cell_type": "markdown",
   "id": "be15f2e1",
   "metadata": {},
   "source": [
    "|relation_id|relation_name|osm_id|code|fclass|name|hubname|hubdist|\n",
    "|---|---|---|---|---|---|---|---|\n",
    "|1254454\t|Bus 20 : Porte des Lilas ? Louison Bobet\t|1821967163\t|5621\t|bus_stop\t|Grands Boulevards\t|5013364\t|9.516719518748575|\n",
    "|1255724\t|Bus 39 : Gare du Nord ? Frères Voisin (Issy-les-Moulineaux)\t|1821967163\t|5621\t|bus_stop\t|Grands Boulevards\t|5013364\t|9.516719518748575|"
   ]
  },
  {
   "cell_type": "markdown",
   "id": "9177d74b",
   "metadata": {},
   "source": []
  },
  {
   "cell_type": "code",
   "execution_count": null,
   "id": "8b91deda",
   "metadata": {},
   "outputs": [],
   "source": []
  }
 ],
 "metadata": {
  "kernelspec": {
   "display_name": "Python 3 (ipykernel)",
   "language": "python",
   "name": "python3"
  },
  "language_info": {
   "codemirror_mode": {
    "name": "ipython",
    "version": 3
   },
   "file_extension": ".py",
   "mimetype": "text/x-python",
   "name": "python",
   "nbconvert_exporter": "python",
   "pygments_lexer": "ipython3",
   "version": "3.9.0"
  }
 },
 "nbformat": 4,
 "nbformat_minor": 5
}
