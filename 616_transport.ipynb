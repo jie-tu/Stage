{
 "cells": [
  {
   "cell_type": "markdown",
   "id": "d2127801",
   "metadata": {},
   "source": [
    "## import overpy"
   ]
  },
  {
   "cell_type": "code",
   "execution_count": 1,
   "id": "a171b815",
   "metadata": {},
   "outputs": [],
   "source": [
    "import overpy\n",
    "api = overpy.Overpass()"
   ]
  },
  {
   "cell_type": "markdown",
   "id": "ccfeb157",
   "metadata": {},
   "source": [
    "## download file from overpass api "
   ]
  },
  {
   "cell_type": "code",
   "execution_count": 2,
   "id": "d3441b71",
   "metadata": {},
   "outputs": [
    {
     "data": {
      "text/plain": [
       "'\\n\\nresult = api.query(\"\"\"\\n   <osm-script timeout=\"1800\" element-limit=\"100000000\">\\n  <union>\\n    <area-query ref=\"3600007444\"/>\\n    <recurse type=\"node-relation\" into=\"rels\"/>\\n    <recurse type=\"node-way\"/>\\n    <recurse type=\"way-relation\"/>\\n  </union>\\n  <union>\\n    <item/>\\n    <recurse type=\"way-node\"/>\\n  </union>\\n  <print mode=\"body\"/>\\n</osm-script>\\n    \"\"\")\\n    \\n    \\n'"
      ]
     },
     "execution_count": 2,
     "metadata": {},
     "output_type": "execute_result"
    }
   ],
   "source": [
    "'''\n",
    "\n",
    "result = api.query(\"\"\"\n",
    "   <osm-script timeout=\"1800\" element-limit=\"100000000\">\n",
    "  <union>\n",
    "    <area-query ref=\"3600007444\"/>\n",
    "    <recurse type=\"node-relation\" into=\"rels\"/>\n",
    "    <recurse type=\"node-way\"/>\n",
    "    <recurse type=\"way-relation\"/>\n",
    "  </union>\n",
    "  <union>\n",
    "    <item/>\n",
    "    <recurse type=\"way-node\"/>\n",
    "  </union>\n",
    "  <print mode=\"body\"/>\n",
    "</osm-script>\n",
    "    \"\"\")\n",
    "    \n",
    "    \n",
    "'''"
   ]
  },
  {
   "cell_type": "markdown",
   "id": "c24244a9",
   "metadata": {},
   "source": [
    "## or load file from disk"
   ]
  },
  {
   "cell_type": "code",
   "execution_count": 3,
   "id": "d9ec4368",
   "metadata": {},
   "outputs": [],
   "source": [
    "file = open(\"Paris\", encoding='utf-8')\n",
    "result = api.parse_xml(file.read(), encoding='utf-8', parser=None)"
   ]
  },
  {
   "cell_type": "markdown",
   "id": "86f1d61a",
   "metadata": {},
   "source": [
    "## get all transport line, "
   ]
  },
  {
   "cell_type": "code",
   "execution_count": 13,
   "id": "59430f85",
   "metadata": {},
   "outputs": [],
   "source": [
    "transport = 'train'\n",
    "#tranport = 'bus'\n",
    "#tranport = 'subway'"
   ]
  },
  {
   "cell_type": "code",
   "execution_count": 14,
   "id": "e360dd46",
   "metadata": {},
   "outputs": [],
   "source": [
    "relation_transport= {}\n",
    "for relation in result.relations:\n",
    "    for member in relation.members:\n",
    "        if 'route' in relation.tags.keys():\n",
    "            if transport in relation.tags['route']:\n",
    "                relation_transport [relation.id]= relation.tags['name']"
   ]
  },
  {
   "cell_type": "code",
   "execution_count": 15,
   "id": "8ecac80a",
   "metadata": {},
   "outputs": [
    {
     "name": "stdout",
     "output_type": "stream",
     "text": [
      "RER E2 : Haussmann - Saint-Lazare → Chelles - Gournay\n",
      "Transilien H\n",
      "Lyria : Paris - Lausanne\n",
      "Transilien R (KUMO) : Gare de Lyon → Montereau\n",
      "Transilien P (PIMO) : Château-Thierry → Gare de l'Est\n",
      "TGV 310 : Paris -- Le Croisic\n",
      "IC 501 : Paris - Nevers - Clermont-Ferrand\n",
      "RER D - Branche Nord, sens Sud\n",
      "RER D - Branche Nord, sens Nord\n",
      "Thalys: Paris → Bruxelles → Amsterdam\n",
      "RER D - Branche Juvisy, sens Sud → Nord\n",
      "RER D - Branche Combs la Ville Quincy, sens Nord → Sud\n",
      "RER D - Branche Juvisy, sens Nord → Sud\n",
      "RER D - Branche Combs la Ville Quincy, sens Sud → Nord\n",
      "TER 4.2 : Paris − Chartres − Nogent-le-Rotrou − Le Mans\n",
      "TGV 308 : Paris -- Brest\n",
      "TER K13 : Paris Gare du Nord → Saint-Quentin → Maubeuge\n",
      "Transilien K (AEKY) : Crépy-en-Valois → Gare du Nord\n",
      "Paris => Rouen => Le Havre\n",
      "TER 2.1 : Tours - Blois - Orléans (- Paris)\n",
      "TER 23 : Le Mans − Nogent le Rotrou − Paris\n",
      "TGV 101 : Francfort → Paris Est\n",
      "Paris → Trouville-Deauville\n",
      "RER A4 : Poissy → Marne-la-Vallée - Chessy\n",
      "RER A4 : Cergy-le-Haut → Marne-la-Vallée - Chessy\n",
      "RER A1 : Marne-la-Vallée - Chessy → Saint-Germain-en-Laye\n",
      "RER A4 : Saint-Germain-en-Laye → Marne-la-Vallée - Chessy\n",
      "RER A1 : Boissy-Saint-Léger → Saint-Germain-en-Laye\n",
      "RER A2 : Saint-Germain-en-Laye → Boissy-Saint-Léger\n",
      "RER A3 : Boissy-Saint-Léger → Cergy-le-Haut\n",
      "RER A2 : Cergy-le-Haut → Boissy-Saint-Léger\n",
      "RER A2 : Poissy → Boissy-Saint-Léger\n",
      "RER A3 : Marne-la-Vallée - Chessy → Cergy-le-Haut\n",
      "RER A5 : Boissy-Saint-Léger → Poissy\n",
      "TGV 305 : Paris -- Le Mans\n",
      "TGV 307 : Paris -- Quimper\n",
      "TGV 310 : Paris -- Les Sables d'Olonne\n",
      "Eurostar : Paris -> London\n",
      "Eurostar : Londres -> Paris\n",
      "RER C Tronçon C1 - Pontoise → Champ de Mars - Tour Eiffel\n",
      "RER A5 : Marne-la-Vallée - Chessy → Poissy\n",
      "RER C Tronçon C1 - Champ de Mars - Tour Eiffel → Pontoise\n",
      "RER C PC - Champ de Mars - Tour Eiffel → Choisy-le-Roi\n",
      "RER C PC - Choisy-le-Roi → Champ de Mars - Tour Eiffel\n",
      "RER C Tronçon C3 - Montigny - Beauchamp → Champ de Mars - Tour Eiffel\n",
      "RER C Tronçon C3 - Champ de Mars - Tour Eiffel → Montigny - Beauchamp\n",
      "RER C Tronçon C7 - Saint-Quentin-en-Yvelines → Champ de Mars - Tour Eiffel\n",
      "RER C Tronçon C7 - Champ de Mars - Tour Eiffel → Saint-Quentin-en-Yvelines\n",
      "RER C Tronçon C5 - Champ de Mars - Tour Eiffel → Versailles Rive Gauche\n",
      "RER C Tronçon C5 - Versailles Château Rive Gauche → Champ de Mars - Tour Eiffel\n",
      "Lyria : Paris – Genève\n",
      "TER 01 : (Lyon) – Dijon – Laroche-Migennes – Paris\n",
      "TGV 505 : Paris -- Lyon\n",
      "TER 08 : Corbigny/Avallon - Paris\n",
      "TER 07 : Auxerre – Laroche-Migennes – Paris\n",
      "TGV 510 : Paris -- Aix-en-Provence -- Marseille\n",
      "TER C 04 : Paris Est - Mulhouse\n",
      "Lyria : Paris - Bâle - Zurich\n",
      "TER Krono : Granville - Argentan - L'Aigle - Paris\n",
      "TGV 101 : Paris Est → Francfort\n",
      "TGV 515 : Paris -- Grenoble\n",
      "Intercités 3730 : Cerbère → Toulouse-Matabiau → Paris-Austerlitz\n",
      "IC 410 : Paris - Andorre - Latour-de-Carol\n",
      "TGV 516 : Paris -- Modane\n",
      "TGV 517 : Paris -- Chambéry -- Bourg-Saint-Maurice\n",
      "TGV 518 : Paris -- Bourg-en-Bresse -- Annecy\n",
      "TGV 519 : Paris → Saint-Gervais-Les-Bains\n",
      "TGV 521 : Paris → Bellegarde → Évian-Les-Bains\n",
      "TGV 506 : Paris -- Lyon -- Saint-Étienne\n",
      "TGV 509 : Paris -- Avignon -- Miramas\n",
      "TER 09 : Nevers - Cosne - Paris\n",
      "TER 1.1 : Orléans − Étampes − Paris\n",
      "Thalys: Amsterdam - Bruxelles - Paris\n",
      "TER : L'Aigle - Verneuil - Dreux - Paris\n",
      "TER : Rouen - Val de Reuil - Vernon - Paris\n",
      "TER K15 : Laon − Crépy-en-Vallois − Paris\n",
      "TER C2 : Bar-Le-Duc − Château-Thierry − Paris\n",
      "TER C17 : Beauvais − Persan-Beaumont − Paris\n",
      "TER K10 : Amiens → Paris Gare du Nord\n",
      "TER C11 : St Just en Chaussée - Creil − Paris\n",
      "C 03 : Paris - Troyes - Chaumont - Belfort - Mulhouse\n",
      "C 02 : Bar-Le-Duc − Saint-Dizier − Vitry-le-François − Châlons-en-Champagne − Epernay − Paris\n",
      "Reims − Épernay − Paris\n",
      "L 29 : Nancy − Bar-le-Duc − Paris/Reims\n",
      "TGV 101 - ICE 83: Stuttgart -> Karlsruhe -> Strasbourg -> Paris (Gare de l'Est)\n",
      "TGV 108 : Paris -- Strasbourg -- Colmar\n",
      "TGV 110 : Paris -- Reims -- Charleville-Mézières -- Sedan\n",
      "TGV 111 : Paris - Châlons-en-Champagne - Bar-le-Duc\n",
      "TGV 112 : Paris -- Nancy -- Saint-Dié-des-Vosges/Remiremont/Strasbourg\n",
      "TER K13 : Paris Gare du Nord → Saint-Quentin → Cambrai\n",
      "TGV InOui 7155 : Paris Gare du Nord → Douai → Valenciennes\n",
      "TGV 204 : Paris -- Lille -- Tourcoing\n",
      "TGV InOui 7355 : Paris Gare du Nord → Dunkerque\n",
      "TGV InOui 7569 : Paris Gare du Nord → Rang-du-Fliers-Verton\n",
      "TER K11 : Paris Gare du Nord → Amiens → Calais-Ville\n",
      "TER Krono : Paris − Argentan − Granville\n",
      "TGV 306 : Paris -- Rennes -- Saint-Malo\n",
      "TGV 309 : Paris -- Nantes\n",
      "TER 3.1 : Paris - Bourges - Montluçon\n",
      "TGV 402 : Paris -- Vendôme -- Saint-Pierre-des-Corps -- Tours\n",
      "TGV 403 : Paris -- Poitiers\n",
      "TGV 404 : Paris -- Niort -- La Rochelle\n",
      "TGV 405 : Paris -- Angoulême -- Bordeaux -- Arcachon\n",
      "TGV 406 : Paris -- Dax -- Hendaye/Tarbes\n",
      "OUIGo : Paris − Saint-Pierre-des-Corps − Angoulême − Bordeaux\n",
      "Intercités 3731 : Paris-Austerlitz → Cahors → Portbou\n",
      "IC 413 : Paris - Rodez - Albi\n",
      "TGV InOui 6202 : Perpignan → Paris-Gare de Lyon\n",
      "TGV 511 : Paris -- Toulon -- Hyères\n",
      "TGV 512 : Paris -- Nice -- Vintimille\n",
      "TGV 520 : Paris -- Dijon -- Chalon-sur-Saône\n",
      "ICE 402 : Paris - Nantes\n",
      "C 02 : Paris - Strasbourg\n",
      "Intercités 3730 : Cerbère → Cahors → Paris-Austerlitz\n",
      "TGV InOui 6221 : Paris-Gare de Lyon → Perpignan\n",
      "TGV 9241: Paris-Gare-de-Lyon => Lyon-Saint-Exupéry TGV => Milano-Porta-Garibaldi\n",
      "Lyria : Paris - Berne - Interlaken\n",
      "Lyria : Paris - Genève - Lausanne\n",
      "EN 453: Paris => Berlin => Moscou\n",
      "Thalys: Dortmund → Cologne → Bruxelles → Paris\n",
      "Thalys: Paris → Bruxelles → Cologne → Dortmund\n",
      "TGV 101 - ICE 83: München => Stuttgart => Karlsruhe => Strasbourg => Paris-Est\n",
      "TGV 101 - ICE 83: Paris-Est => Stuttgart => München\n",
      "Lyria : Lausanne - Paris\n",
      "Lyria : Lausanne - Genève - Paris\n",
      "TER C 04 : Paris Est - Mulhouse\n",
      "TGV InOui 6745 : Paris-Gare de Lyon → Dole-Ville → Besançon-Viotte\n",
      "TGV InOui 6760 : Besançon-Viotte → Dole-Ville → Paris-Gare de Lyon\n",
      "TGV InOui 6762 : Besançon-Viotte → Besançon-Franche-Comté → Paris-Gare de Lyon\n",
      "TGV InOui 6701 : Paris-Gare de Lyon → Besançon-Franche-Comté → Besançon-Viotte\n",
      "TGV InOui 6703 : Paris-Gare de Lyon → Mulhouse-Ville\n",
      "TGV InOui 6700 : Mulhouse-Ville → Paris-Gare de Lyon\n",
      "TGV 101 : Francfort → Paris Est\n",
      "TGV 101 : Paris Est → Francfort\n",
      "TER 2.10 : Vendôme − Châteaudun − Paris\n",
      "TGV 101 - ICE 83: Paris-Est => Strasbourg => Karlsruhe => Stuttgart\n",
      "Transilien J : Paris-Saint-Lazare → Gisors\n",
      "Transilien J : Gisors → Paris-Saint-Lazare\n",
      "Transilien J : Ermont - Eaubonne → Paris-Saint-Lazare\n",
      "Transilien J : Paris-Saint-Lazare → Ermont - Eaubonne\n",
      "Transilien J : Paris-Saint-Lazare → Mantes-la-Jolie via Conflans\n",
      "Transilien J : Mantes-la-Jolie → Paris-Saint-Lazare via Conflans\n",
      "Transilien J : Paris-Saint-Lazare => Mantes-la-Jolie via Poissy\n",
      "Transilien J : Mantes-la-Jolie => Paris-Saint-Lazare via Poissy\n",
      "RER E4 : Haussmann - Saint-Lazare → Tournan\n",
      "Transilien P (PIBU) : Provins → Gare de l'Est\n",
      "Transilien P (XIBU) : Gare de l'Est → Provins\n",
      "Transilien P (CITU) : Gare de l'Est → Coulommiers\n",
      "Transilien P (PITU) : Coulommiers → Gare de l'Est\n",
      "Transilien K (KIPY) : Gare du Nord → Crépy-en-Valois (semi-rapide)\n",
      "Transilien K (AIKY) : Crépy-en-Valois → Gare du Nord (semi-rapide)\n",
      "Transilien K (KEPY) : Gare du Nord → Crépy-en-Valois\n",
      "EN 452: Moscou => Berlin => Paris\n",
      "Transilien H (SOGA) : Gare du Nord → Sarcelles - Saint-Brice\n",
      "Transilien H (AOGA) : Sarcelles-Saint-Brice → Gare du Nord omibus\n",
      "Transilien H (MOSA) : Gare du Nord → Montsoult-Maffliers\n",
      "Transilien H (AOSA) : Montsoult-Maffliers → Gare du Nord omnibus\n",
      "Transilien H (LOMI) : Gare du Nord → Luzarches omnibus\n",
      "Transilien H (AOLA) : Luzarches → Gare du Nord omnibus\n",
      "Transilien H (LEVA) : Gare du Nord → Luzarches (direct entre Épinay-Villetaneuse et Sarcelles-Saint-Brice)\n",
      "Transilien H (AVEL) : Luzarches → Gare du Nord (direct entre Sarcelles-Saint-Brice et Épinay-Villetaneuse)\n",
      "Transilien H (LEMI) : Gare du Nord → Luzarches (direct entre Gare du Nord et Sarcelles-Saint-Brice)\n",
      "Transilien H (ADEL) : Luzarches → Gare du Nord (direct entre Sarcelles-Saint-Brice et Gare du Nord)\n",
      "Transilien H (POMA) : Gare du Nord → Montsoult-Maffliers → Persan-Beaumont omnibus\n",
      "Transilien H (AOMA) : Persan-Beaumont → Montsoult-Maffliers → Gare du Nord omnibus\n",
      "Transilien H (PEDA) : Gare du Nord → Montsoult-Maffliers → Persan-Beaumont (direct entre Épinay-Villetaneuse et Sarcelles-Saint-Brice)\n",
      "Transilien H (ADEP) : Persan-Beaumont → Montsoult-Maffliers → Gare du Nord (direct entre Sarcelles-Saint-Brice et Épinay-Villetaneuse)\n",
      "Transilien H (PEMI) : Gare du Nord → Montsoult-Maffliers → Persan-Beaumont (direct entre Gare du Nord et Sarcelles-Saint-Brice)\n",
      "Transilien H (ASSA) : Persan-Beaumont → Montsoult-Maffliers → Gare du Nord (direct entre Sarcelles-Saint-Brice et Gare du Nord)\n",
      "Transilien H (FOGI) : Gare du Nord → Saint-Leu-la-Forêt omnibus\n",
      "Transilien H (AFOI) : Saint-Leu-la-Forêt → Gare du Nord omnibus\n",
      "Transilien H (VERA) : Gare du Nord → Valmondois (direct entre Gare du Nord et Épinay-Villetaneuse, Enghien-les-Bains et Ermont-Eaubonne)\n",
      "Transilien H (AREV) : Valmondois → Gare du Nord (direct entre Ermont-Eaubonne et Enghien-les-Bains, Épinay-Villetaneuse et Gare du Nord)\n",
      "Transilien H (PERA) : Gare du Nord → Valmondois → Persan-Beaumont (direct entre Gare du Nord et Épinay-Villetaneuse, Enghien-les-Bains et Ermont-Eaubonne)\n",
      "Transilien H (AREP) : Persan-Beaumont → Valmondois → Gare du Nord (direct entre Ermont-Eaubonne et Enghien-les-Bains, Épinay-Villetaneuse et Gare du Nord)\n",
      "Transilien H (ODDA) : Gare du Nord → Pontoise (direct entre Épinay-Villetaneuse, Enghien-les-Bains et Ermont-Eaubonne)\n",
      "Transilien H (ADDO) : Pontoise → Gare du Nord (direct entre Ermont-Eaubonne, Enghien-les-Bains et Épinay-Villetaneuse)\n",
      "Transilien H (POVA) : Gare du Nord → Valmondois → Persan-Beaumont omnibus\n",
      "Transilien H (AVOP) : Persan-Beaumont → Valmondois → Gare du Nord omnibus\n",
      "Transilien H (ODEA) : Gare du Nord → Pontoise (direct entre Gare du Nord et Épinay-Villetaneuse, Épinay-Villetaneuse et Enghien-les-Bains, Enghien-les-Bains et Ermont-Eaubonne)\n",
      "Transilien H (ADEO) : Pontoise → Gare du Nord (direct entre Ermont-Eaubonne et Enghien-les-Bains, Enghien-les-Bains et Épinay-Villetaneuse, Épinay-Villetaneuse et Gare du Nord)\n",
      "Transilien H (VOBA) : Gare du Nord → Valmondois omnibus\n",
      "Transilien H (AVOL) : Valmondois → Gare du Nord omnibus\n",
      "Transilien H (OPOC) : Gare du Nord → Pontoise omnibus\n",
      "Transilien H (APOR) : Pontoise → Gare du Nord omnibus\n",
      "Transilien H - Tronc commun Paris-Gare du Nord → Montsoult-Maffliers\n",
      "Transilien H - Tronc commun Montsoult-Maffliers → Paris-Gare du Nord\n",
      "Transilien H - Tronc commun Paris-Gare du Nord → Ermont-Eaubonne\n",
      "Transilien H - Tronc commun Ermont-Eaubonne → Paris-Gare du Nord\n",
      "Trouville-Deauville → Paris\n",
      "Transilien L : Paris => Saint-Nom-la-Bretèche\n",
      "Transilien L : Paris => Versailles-Rive-Droite\n",
      "Transilien L : Saint-Nom-la-Bretèche => Paris\n",
      "Transilien L : Versailles-Rive-Droite => Paris\n",
      "Transilien L : Cergy le Haut => Paris\n",
      "Transilien L : Paris => Cergy le Haut\n",
      "Serquigny → Paris\n",
      "Paris → Serquigny\n",
      "Paris → Cherbourg\n",
      "Cherbourg → Paris\n",
      "TGV 2800 : Luxembourg → Paris-Est (avec Champagne-Ardenne)\n",
      "TGV 2800 : Paris-Est → Luxembourg (sans Champagne-Ardenne)\n",
      "TGV 2800 : Paris-Est → Luxembourg (avec Champagne-Ardenne)\n",
      "TGV 2800 : Luxembourg → Paris-Est (sans Champagne-Ardenne)\n",
      "RER B3 : Robinson → Aéroport CDG 2\n",
      "RER B3 : Gare du Nord (surface) → Aéroport CDG 2\n",
      "RER B5 : Gare du Nord (surface) → Mitry-Claye\n",
      "RER B5 : Robinson → Mitry-Claye\n",
      "RER B1 : Robinson → Gare du Nord\n",
      "RER B2 : Gare du Nord → Robinson\n",
      "RER B1 : Aéroport CDG 2 → Gare du Nord (surface)\n",
      "RER B2 : Aéroport CDG 2 → Robinson\n",
      "RER B1 : Mitry-Claye → Gare du Nord (surface)\n",
      "RER B2 : Mitry-Claye → Robinson\n",
      "RER B6 : Mitry-Claye → Massy-Palaiseau\n",
      "RER B6 : Gare du Nord → Massy-Palaiseau\n",
      "RER B6 : Aéroport CDG 2 → Massy-Palaiseau\n",
      "RER B5 : Massy-Palaiseau → Mitry-Claye\n",
      "RER B3 : Massy-Palaiseau → Aéroport CDG 2\n",
      "RER B1 : Massy-Palaiseau → Gare du Nord\n",
      "RER B4 : Gare du Nord → Saint-Rémy-lès-Chevreuse\n",
      "RER B4 : Mitry-Claye → Saint-Rémy-lès-Chevreuse\n",
      "RER B4 : Aéroport CDG 2 → Saint-Rémy-lès-Chevreuse\n",
      "RER B5 : Saint-Rémy-lès-Chevreuse → Mitry-Claye\n",
      "RER B3 : Saint-Rémy-lès-Chevreuse → Aéroport CDG 2\n",
      "RER B1 : Saint-Rémy-lès-Chevreuse → Gare du Nord\n",
      "Transilien N (POMI) : Mantes-la-Jolie → Gare Montparnasse\n",
      "Transilien N (PADA) : Dreux → Gare Montparnasse (rapide)\n",
      "Transilien N (DAPA) : Gare Montparnasse → Dreux (rapide)\n",
      "Transilien N (DAPO) : Gare Montparnasse → Dreux\n",
      "Transilien N (PORO) : Rambouillet → Gare Montparnasse\n",
      "Transilien N (ROPO) : Gare Montparnasse → Rambouillet\n",
      "Transilien N (PADO) : Dreux → Gare Montparnasse\n",
      "Transilien N (GOPI) : Gare Montparnasse → Plaisir - Grignon\n",
      "Transilien N (POGI) : Plaisir - Grignon → Gare Montparnasse\n",
      "Transilien N (RIPI) : Gare Montparnasse → Rambouillet (rapide)\n",
      "Transilien N (PIRI) : Rambouillet → Gare Montparnasse (rapide)\n",
      "Transilien N (MOPI) : Gare Montparnasse → Mantes-la-Jolie\n",
      "RER E1 : Tournan → Haussmann - Saint-Lazare\n",
      "RER E1 : Chelles - Gournay → Haussmann - Saint-Lazare\n",
      "TGV 515 : Grenoble -- Paris\n",
      "IC 100% éco 5757 : Paris => Grenoble\n",
      "IC 100% éco 5756 : Grenoble => Paris\n",
      "Transilien R (GAMO) : Gare de Lyon → Montargis\n",
      "ICN 5799 : Paris => Briançon\n",
      "ICN 5789 : Paris => Briançon\n",
      "ICN 5792 : Briançon => Paris\n",
      "ICN 5790/91 : Briançon => Paris\n",
      "ICN 5790 : Briançon => Paris\n",
      "TGV InOui 6206 : Perpignan → Paris-Gare de Lyon\n",
      "TGV InOui 6260 : Perpignan → Paris-Gare de Lyon\n",
      "TGV InOui 6036 : Perpignan → Paris-Gare de Lyon\n",
      "TGV InOui 6204 : Perpignan → Paris-Gare de Lyon\n",
      "TGV InOui 6258 : Perpignan → Paris-Gare de Lyon\n",
      "TGV InOui 6256 : Perpignan → Paris-Gare de Lyon\n",
      "TGV InOui 6254 : Perpignan → Paris-Gare de Lyon\n",
      "TGV InOui 6225 : Paris-Gare de Lyon → Perpignan\n",
      "TGV InOui 6279 : Paris-Gare de Lyon → Perpignan\n",
      "TGV InOui 6223 : Paris-Gare de Lyon → Perpignan\n",
      "TGV InOui 6277 : Paris-Gare de Lyon → Perpignan\n",
      "TGV InOui 6035 : Paris-Gare de Lyon → Perpignan\n",
      "TGV InOui 6275 : Paris-Gare de Lyon → Perpignan\n",
      "TGV InOui 6271 : Paris-Gare de Lyon → Perpignan\n",
      "TGV InOui 6033 : Paris-Gare de Lyon → Perpignan\n",
      "Eurostar : Londres -> Paris\n",
      "Eurostar : Londres -> Paris\n",
      "Eurostar : Londres -> Paris\n",
      "Eurostar : Paris -> London\n",
      "Eurostar : Paris -> London\n",
      "Eurostar : Paris -> London\n",
      "Intercités 3731 : Paris-Austerlitz → Toulouse-Matabiau\n",
      "Intercités 3731 : Paris-Austerlitz → Cahors → Toulouse-Matabiau\n",
      "Intercités 3731 : Paris-Austerlitz → Toulouse-Matabiau → Portbou\n",
      "Renfe-SNCF 9704 : Barcelone-Sants → Paris-Gare de Lyon\n",
      "Renfe-SNCF 9713 : Paris-Gare de Lyon → Barcelone-Sants\n",
      "TGV 9241: Paris-Gare-de-Lyon => Lyon-Part-Dieu => Milano-Porta-Garibaldi\n",
      "TGV 9240: Milano-Porta-Garibaldi => Paris-Gare-de-Lyon\n",
      "TGV InOui 7522 : Rang-du-Fliers-Verton → Paris Gare du Nord\n",
      "TGV InOui 7304 : Dunkerque → Paris Gare du Nord\n",
      "TER K10 : Paris Gare du Nord → Amiens\n",
      "TER K11 : Calais-Ville → Amiens → Paris Gare du Nord\n",
      "TER K13 : Cambrai → Saint-Quentin → Paris Gare du Nord\n",
      "TER K13 : Maubeuge → Saint-Quentin → Paris Gare du Nord\n",
      "TGV InOui 7104 : Valenciennes → Douai → Paris Gare du Nord\n",
      "Transilien L : Nanterre-Université => Paris Saint-Lazare\n",
      "Transilien L : Paris => Nanterre-Université\n",
      "Transilien P (ZIMO) : Gare de l'Est → Château-Thierry\n",
      "Transilien P (FYMO) : Gare de l'Est → La Ferté-Milon\n",
      "Transilien P (MICI) : Gare de l'Est → Meaux\n",
      "Transilien P (PUMO) : La Ferté-Milon → Gare de l'Est\n",
      "Transilien P (PICI) : Meaux → Gare de l'Est\n",
      "Transilien R (POMA) : Montargis → Gare de Lyon\n",
      "Transilien R (PUMA) : Montereau → Gare de Lyon\n",
      "Transilien R (GAMO) : Gare de Lyon → Montargis (rapide)\n",
      "Transilien R (POME) : Montargis → Gare de Lyon (rapide)\n"
     ]
    }
   ],
   "source": [
    "for key in relation_transport:\n",
    "    print (relation_transport[key])"
   ]
  },
  {
   "cell_type": "markdown",
   "id": "ee04e939",
   "metadata": {},
   "source": [
    "## get relations from transport id"
   ]
  },
  {
   "cell_type": "code",
   "execution_count": 16,
   "id": "6fa3f21c",
   "metadata": {},
   "outputs": [],
   "source": [
    "transport_to_relation= {}\n",
    "for relation in result.relations:\n",
    "    if 'route' in relation.tags.keys():\n",
    "        if transport in relation.tags['route']:\n",
    "            for member in relation.members:\n",
    "                if(member.role=='stop'):\n",
    "                    if member.ref in transport_to_relation :\n",
    "                        transport_to_relation [member.ref].append(relation.id)\n",
    "                    else:\n",
    "                        transport_to_relation [member.ref] = [relation.id]\n",
    "                    "
   ]
  },
  {
   "cell_type": "code",
   "execution_count": 17,
   "id": "a0a7a3a1",
   "metadata": {},
   "outputs": [],
   "source": [
    "#transport_to_relation"
   ]
  },
  {
   "cell_type": "code",
   "execution_count": 18,
   "id": "d386c4e4",
   "metadata": {},
   "outputs": [
    {
     "name": "stdout",
     "output_type": "stream",
     "text": [
      "[<overpy.Node id=9532923969 lat=48.8816622 lon=2.3592798>]\n",
      "48.8816622 2.3592798\n"
     ]
    }
   ],
   "source": [
    "for key in transport_to_relation:\n",
    "    node = result.get_nodes(key)\n",
    "    print (node)\n",
    "    if (node):\n",
    "        print (node[0].lat, node[0].lon)\n",
    "    break"
   ]
  },
  {
   "cell_type": "markdown",
   "id": "887d0b7a",
   "metadata": {},
   "source": [
    "## get relation from way id "
   ]
  },
  {
   "cell_type": "code",
   "execution_count": 19,
   "id": "ef8eb5e0",
   "metadata": {},
   "outputs": [],
   "source": [
    "way_to_relation= {}\n",
    "for relation in result.relations:\n",
    "    if 'route' in relation.tags.keys():\n",
    "        if transport in relation.tags['route']:\n",
    "            for member in relation.members:\n",
    "                if(member.role==None):\n",
    "                    if member.ref in way_to_relation :\n",
    "                        way_to_relation [member.ref].append(relation.id)\n",
    "                    else:\n",
    "                        way_to_relation [member.ref] = [relation.id]"
   ]
  },
  {
   "cell_type": "markdown",
   "id": "7598bdde",
   "metadata": {},
   "source": [
    "##  create point layer by using Fiona"
   ]
  },
  {
   "cell_type": "code",
   "execution_count": 20,
   "id": "6e339c2a",
   "metadata": {},
   "outputs": [],
   "source": [
    "import fiona"
   ]
  },
  {
   "cell_type": "code",
   "execution_count": 21,
   "id": "35bd3705",
   "metadata": {
    "scrolled": true
   },
   "outputs": [
    {
     "name": "stdout",
     "output_type": "stream",
     "text": [
      "train.shp\n"
     ]
    }
   ],
   "source": [
    "# define schema\n",
    "schema = {\n",
    "    'geometry':'Point',\n",
    "    'properties':[('relation_id','int'),('relation_name','str') ,('osm_id','int')]\n",
    "}\n",
    "\n",
    "file = transport + \".shp\"\n",
    "print (file)\n",
    "pointShp = fiona.open(file, mode='w', driver='ESRI Shapefile',schema = schema, crs = \"EPSG:4326\")\n",
    "#iterate over each row in the dataframe and save record\n",
    "for key in transport_to_relation:\n",
    "    node = result.get_nodes(key)\n",
    "    if (node):\n",
    "        for i in transport_to_relation[key]:\n",
    "            rowDict = {\n",
    "                'geometry' : {'type':'Point','coordinates': (node[0].lon,node[0].lat)},\n",
    "                'properties': {  'relation_id': i , 'relation_name' : relation_transport[i] , 'osm_id' : node[0].id},\n",
    "            }\n",
    "            pointShp.write(rowDict)\n",
    "    \n",
    "#close fiona object\n",
    "pointShp.close()"
   ]
  },
  {
   "cell_type": "markdown",
   "id": "ea368c08",
   "metadata": {},
   "source": [
    "## point.shp"
   ]
  },
  {
   "cell_type": "markdown",
   "id": "3c7b05de",
   "metadata": {},
   "source": [
    "| relation_id| relation_name | osm_id |\n",
    "| --- | --- | --- |\n",
    "| 1255723 | Bus 29 : Porte de Montempoivre ? Gare Saint-Lazare | 2042462222 |\n",
    "| 1255729 | Bus 29 : Gare Saint-Lazare ? Porte de Montempoivre | 2042462222 |"
   ]
  },
  {
   "cell_type": "markdown",
   "id": "edc3423f",
   "metadata": {},
   "source": [
    "## find the nearly building for each point, add the info to the building"
   ]
  },
  {
   "cell_type": "markdown",
   "id": "ccd33a71",
   "metadata": {},
   "source": [
    "hub_distance{ 'FIELD' : 'osm_id', 'HUBS' : 'batiment_converted.shp', 'INPUT' : 'point.shp', 'OUTPUT' : 'TEMPORARY_OUTPUT', 'UNIT' : 0 }"
   ]
  },
  {
   "cell_type": "markdown",
   "id": "be15f2e1",
   "metadata": {},
   "source": [
    "|relation_id|relation_name|osm_id|code|fclass|name|hubname|hubdist|\n",
    "|---|---|---|---|---|---|---|---|\n",
    "|1254454\t|Bus 20 : Porte des Lilas ? Louison Bobet\t|1821967163\t|5621\t|bus_stop\t|Grands Boulevards\t|5013364\t|9.516719518748575|\n",
    "|1255724\t|Bus 39 : Gare du Nord ? Frères Voisin (Issy-les-Moulineaux)\t|1821967163\t|5621\t|bus_stop\t|Grands Boulevards\t|5013364\t|9.516719518748575|"
   ]
  },
  {
   "cell_type": "markdown",
   "id": "9177d74b",
   "metadata": {},
   "source": []
  },
  {
   "cell_type": "code",
   "execution_count": null,
   "id": "8b91deda",
   "metadata": {},
   "outputs": [],
   "source": []
  }
 ],
 "metadata": {
  "kernelspec": {
   "display_name": "Python 3 (ipykernel)",
   "language": "python",
   "name": "python3"
  },
  "language_info": {
   "codemirror_mode": {
    "name": "ipython",
    "version": 3
   },
   "file_extension": ".py",
   "mimetype": "text/x-python",
   "name": "python",
   "nbconvert_exporter": "python",
   "pygments_lexer": "ipython3",
   "version": "3.9.0"
  }
 },
 "nbformat": 4,
 "nbformat_minor": 5
}
