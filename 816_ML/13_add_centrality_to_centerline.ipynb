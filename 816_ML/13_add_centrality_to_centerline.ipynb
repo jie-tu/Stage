{
 "cells": [
  {
   "cell_type": "code",
   "execution_count": 1,
   "id": "a2310dd4",
   "metadata": {},
   "outputs": [],
   "source": [
    "import xml.etree.ElementTree as ET\n",
    "import csv"
   ]
  },
  {
   "cell_type": "code",
   "execution_count": 2,
   "id": "9a606f03",
   "metadata": {},
   "outputs": [],
   "source": [
    "#csv to dict"
   ]
  },
  {
   "cell_type": "code",
   "execution_count": 3,
   "id": "c238e258",
   "metadata": {},
   "outputs": [],
   "source": [
    "link2betweeness={}\n",
    "with open ('link2betweeness.csv','rt',encoding='utf-8') as f:\n",
    "    reader = csv.reader(f)\n",
    "    next(reader, None)\n",
    "    for row in reader :\n",
    "        lk, betweeness = row\n",
    "        link2betweeness[lk] = betweeness"
   ]
  },
  {
   "cell_type": "code",
   "execution_count": 4,
   "id": "473915fc",
   "metadata": {},
   "outputs": [],
   "source": [
    "#add betweeness to centerlin xml"
   ]
  },
  {
   "cell_type": "code",
   "execution_count": 5,
   "id": "06ff4ba8",
   "metadata": {},
   "outputs": [],
   "source": [
    "tree = ET.parse('network.xml')\n",
    "root = tree.getroot()\n",
    "for links in root.findall('links'):\n",
    "    for link in links.findall('link'):\n",
    "        if link.get('linkId') in link2betweeness.keys():\n",
    "            link.set('centrality',link2betweeness[link.get('linkId')] )"
   ]
  },
  {
   "cell_type": "code",
   "execution_count": 6,
   "id": "3f523826",
   "metadata": {},
   "outputs": [],
   "source": [
    "#export xml"
   ]
  },
  {
   "cell_type": "code",
   "execution_count": 7,
   "id": "b00f90ec",
   "metadata": {},
   "outputs": [],
   "source": [
    "tree = ET.ElementTree(root)\n",
    "ET.indent(tree)\n",
    "tree.write('output.xml',encoding='utf-8')"
   ]
  }
 ],
 "metadata": {
  "kernelspec": {
   "display_name": "Python 3 (ipykernel)",
   "language": "python",
   "name": "python3"
  },
  "language_info": {
   "codemirror_mode": {
    "name": "ipython",
    "version": 3
   },
   "file_extension": ".py",
   "mimetype": "text/x-python",
   "name": "python",
   "nbconvert_exporter": "python",
   "pygments_lexer": "ipython3",
   "version": "3.9.0"
  }
 },
 "nbformat": 4,
 "nbformat_minor": 5
}
