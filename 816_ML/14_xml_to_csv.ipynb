{
 "cells": [
  {
   "cell_type": "code",
   "execution_count": 1,
   "id": "408f0bdb",
   "metadata": {},
   "outputs": [],
   "source": [
    "import xml.etree.ElementTree as ET\n",
    "import pandas as pd"
   ]
  },
  {
   "cell_type": "code",
   "execution_count": 2,
   "id": "fd98268d",
   "metadata": {},
   "outputs": [],
   "source": [
    "cols = [\"linkId\", \"length\", \"centrality\"\n",
    "        ,\"width\",\"osm_way\",\"osm_link\",\"freespeed\",\"capacity\",\"permlanes\",\"oneway\",\"modes\",\"edge_centrality\",\n",
    "        \"bus\",\"subway\",\"train\"]\n",
    "rows = []\n",
    "\n",
    "tree = ET.parse('network.xml')\n",
    "root = tree.getroot()\n",
    "\n",
    "for links in root.findall('links'):\n",
    "    for link in links.findall('link'):\n",
    "        \n",
    "        linkId = link.get('linkId')\n",
    "        length = link.get('length')\n",
    "        centrality = link.get('centrality')\n",
    "        \n",
    "        width,osm_way,osm_link,freespeed,capacity,permlanes,oneway,modes,edge_centrality,bus,subway,train =[' ']*12\n",
    "        \n",
    "        for attributes in link.findall('attributes'):\n",
    "            for attribute in attributes.findall('attribute'):\n",
    "                name = attribute.get('name')\n",
    "                if name == 'width':\n",
    "                    width = attribute.get('width')\n",
    "                elif name == 'osm_way':\n",
    "                    osm_way = attribute.get('way_id')\n",
    "                elif name == 'osm_link':\n",
    "                    osm_link = attribute.get('link_id')\n",
    "                elif name == 'freespeed':\n",
    "                    freespeed = attribute.get('freespeed')\n",
    "                elif name =='capacity':\n",
    "                    capacity  = attribute.get('capacity')\n",
    "                elif name =='permlanes':\n",
    "                    permlanes = attribute.get('permlanes')\n",
    "                elif name == 'oneway' :\n",
    "                    oneway    = attribute.get('one_way')\n",
    "                elif name == 'modes': \n",
    "                    modes = attribute.get('modes')\n",
    "                elif name =='edge_centrality':\n",
    "                    edge_centrality = attribute.get('edge_centrality')\n",
    "                elif name == 'bus':\n",
    "                    bus = attribute.get('bus') \n",
    "                elif name =='subway':\n",
    "                    subway = attribute.get('subway') \n",
    "                elif name == 'train':\n",
    "                    train = attribute.get('train') \n",
    "\n",
    "        rows.append({\"linkId\":linkId,\n",
    "                     \"length\":length,\n",
    "                     \"centrality\":centrality,\n",
    "                     \"width\":width,\n",
    "                     \"osm_way\":osm_way,\n",
    "                     \"osm_link\":osm_link,\n",
    "                     \"freespeed\":freespeed,\n",
    "                     \"capacity\":capacity,\n",
    "                     \"permlanes\":permlanes,\n",
    "                     \"oneway\":oneway,\n",
    "                     \"modes\": modes,\n",
    "                     \"edge_centrality\":edge_centrality,\n",
    "                     \"bus\":bus,\n",
    "                     \"subway\":subway,\n",
    "                     \"train\":train})\n",
    "\n"
   ]
  },
  {
   "cell_type": "code",
   "execution_count": 3,
   "id": "80f61404",
   "metadata": {},
   "outputs": [],
   "source": [
    "df = pd.DataFrame(rows, columns=cols)\n",
    "\n",
    "# Writing dataframe to csv\n",
    "df.to_csv('xml2csv.csv')\n"
   ]
  }
 ],
 "metadata": {
  "kernelspec": {
   "display_name": "Python 3 (ipykernel)",
   "language": "python",
   "name": "python3"
  },
  "language_info": {
   "codemirror_mode": {
    "name": "ipython",
    "version": 3
   },
   "file_extension": ".py",
   "mimetype": "text/x-python",
   "name": "python",
   "nbconvert_exporter": "python",
   "pygments_lexer": "ipython3",
   "version": "3.9.0"
  }
 },
 "nbformat": 4,
 "nbformat_minor": 5
}
