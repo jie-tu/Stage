{
 "cells": [
  {
   "cell_type": "code",
   "execution_count": 1,
   "id": "f098c201",
   "metadata": {},
   "outputs": [],
   "source": [
    "import xml.etree.ElementTree as ET\n",
    "import pandas as pd"
   ]
  },
  {
   "cell_type": "code",
   "execution_count": 2,
   "id": "55ca2de4",
   "metadata": {},
   "outputs": [],
   "source": [
    "tree = ET.parse('network.xml')\n",
    "root = tree.getroot()"
   ]
  },
  {
   "cell_type": "code",
   "execution_count": 3,
   "id": "4a433eef",
   "metadata": {},
   "outputs": [],
   "source": [
    "cols=[ 'WKT','linkId','width']\n",
    "rows = []"
   ]
  },
  {
   "cell_type": "code",
   "execution_count": 4,
   "id": "f900f87e",
   "metadata": {},
   "outputs": [],
   "source": [
    "## append row\n",
    "link_to_width = {}\n",
    "for links in root.findall('links'):\n",
    "    for link in links.findall('link'):\n",
    "        for attributes in link.findall('attributes'):\n",
    "            for attribute in attributes.findall('attribute'):\n",
    "                if attribute.get('name') == 'width' :\n",
    "                    sum_width = 0\n",
    "                    list_width   = attribute.get('width').split(' ')\n",
    "                    for width in list_width:\n",
    "                        if (width != ''):\n",
    "                            sum_width = sum_width + float (width) \n",
    "                    avg_width = sum_width / len (list_width)\n",
    "                    link_to_width [link.get('linkId')]=str(avg_width)"
   ]
  },
  {
   "cell_type": "code",
   "execution_count": 5,
   "id": "5240275e",
   "metadata": {},
   "outputs": [],
   "source": [
    "current_link = None\n",
    "current_geometry = None \n",
    "for nodes in root.findall('nodes'):\n",
    "    for node in nodes.findall('node'):\n",
    "        if current_link is None or node.get('linkId') != current_link:\n",
    "            current_link= node.get('linkId')\n",
    "            if current_geometry is None:\n",
    "                current_geometry= 'MULTILINESTRING ((' + node.get('geometry')\n",
    "            else:\n",
    "                current_geometry= current_geometry + '))'\n",
    "                \n",
    "                rows.append({'WKT':current_geometry,'linkId':current_link, 'width':link_to_width[current_link]})\n",
    "    \n",
    "                current_geometry= 'MULTILINESTRING ((' + node.get('geometry')\n",
    "        else:\n",
    "            current_geometry= current_geometry +','+ node.get('geometry')\n",
    "    \n",
    "        \n",
    "    rows.append({'WKT':current_geometry+'))','linkId':current_link, 'width':link_to_width[current_link]})\n",
    "                    \n",
    "        "
   ]
  },
  {
   "cell_type": "code",
   "execution_count": 6,
   "id": "5d409796",
   "metadata": {},
   "outputs": [],
   "source": [
    "df = pd.DataFrame(rows, columns=cols)\n",
    "\n",
    "# Writing dataframe to csv\n",
    "df.to_csv('output.csv',index=False)"
   ]
  }
 ],
 "metadata": {
  "kernelspec": {
   "display_name": "Python 3 (ipykernel)",
   "language": "python",
   "name": "python3"
  },
  "language_info": {
   "codemirror_mode": {
    "name": "ipython",
    "version": 3
   },
   "file_extension": ".py",
   "mimetype": "text/x-python",
   "name": "python",
   "nbconvert_exporter": "python",
   "pygments_lexer": "ipython3",
   "version": "3.9.0"
  }
 },
 "nbformat": 4,
 "nbformat_minor": 5
}
