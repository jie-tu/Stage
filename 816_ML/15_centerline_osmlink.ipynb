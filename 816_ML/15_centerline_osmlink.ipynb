{
 "cells": [
  {
   "cell_type": "code",
   "execution_count": 1,
   "id": "3d44f73e",
   "metadata": {},
   "outputs": [],
   "source": [
    "import xml.etree.ElementTree as ET\n",
    "import pandas as pd"
   ]
  },
  {
   "cell_type": "code",
   "execution_count": 7,
   "id": "955307cd",
   "metadata": {},
   "outputs": [],
   "source": [
    "#xml to csv"
   ]
  },
  {
   "cell_type": "code",
   "execution_count": 2,
   "id": "16385812",
   "metadata": {},
   "outputs": [],
   "source": [
    "tree = ET.parse('output_network.xml')\n",
    "root = tree.getroot()"
   ]
  },
  {
   "cell_type": "code",
   "execution_count": 3,
   "id": "ac65c0c1",
   "metadata": {},
   "outputs": [],
   "source": [
    "node2geom = {}\n",
    "for nodes in root.findall('nodes'):\n",
    "    for node in nodes.findall('node'):\n",
    "        node2geom[node.get('id')]=[node.get('x'),node.get('y')]"
   ]
  },
  {
   "cell_type": "code",
   "execution_count": 4,
   "id": "8cda54c4",
   "metadata": {},
   "outputs": [],
   "source": [
    "cols=[ 'WKT','link','length','freespeed','capacity','permlanes','oneway','modes']\n",
    "rows = []"
   ]
  },
  {
   "cell_type": "code",
   "execution_count": 5,
   "id": "47246430",
   "metadata": {},
   "outputs": [],
   "source": [
    "for links in root.findall('links'):\n",
    "    for link in links.findall('link'):\n",
    "        f = link.get('from')\n",
    "        t = link.get('to')\n",
    "\n",
    "        if f in node2geom.keys() and  t in node2geom.keys():\n",
    "            geom_f= node2geom[f]\n",
    "            geom_t= node2geom[t]\n",
    "            \n",
    "            wkt = 'MULTILINESTRING (('+geom_f[0]+' '+geom_f[1]+','+geom_t[0]+' '+geom_t[1]+'))'\n",
    "            \n",
    "            rows.append({'WKT':wkt, \n",
    "                         'link':link.get('id'),\n",
    "                         'length':link.get('length'),\n",
    "                         'freespeed':link.get('freespeed'),\n",
    "                         'capacity':link.get('capacity'),\n",
    "                         'permlanes':link.get('permlanes'),\n",
    "                         'oneway':link.get('oneway'),\n",
    "                         'modes':link.get('modes')})"
   ]
  },
  {
   "cell_type": "code",
   "execution_count": 6,
   "id": "74826825",
   "metadata": {},
   "outputs": [],
   "source": [
    "df = pd.DataFrame(rows, columns=cols)\n",
    "df.to_csv('output_network.csv',index=False)"
   ]
  },
  {
   "cell_type": "code",
   "execution_count": 20,
   "id": "9e74ef8c",
   "metadata": {},
   "outputs": [],
   "source": [
    "#csv to shp , get intersection"
   ]
  },
  {
   "cell_type": "markdown",
   "id": "67d85840",
   "metadata": {},
   "source": [
    "```\n",
    "add index to linestring_bulidings.shp\n",
    "\n",
    "Algorithm 'Field calculator' starting…\n",
    "Input parameters:\n",
    "{ 'FIELD_LENGTH' : 10, 'FIELD_NAME' : 'index', 'FIELD_PRECISION' : 3, 'FIELD_TYPE' : 1, 'FORMULA' : '@row_number', 'INPUT' : 'G:/805/linestrings_buildings.shp', 'OUTPUT' : 'G:/820_fix_osm_link/linestrings_buildings_index.shp' }\n",
    "\n",
    "line intersection\n",
    "\n",
    "Algorithm 'Line intersections' starting…\n",
    "Input parameters:\n",
    "{ 'INPUT' : 'G:/820_fix_osm_link/linestrings_buildings_index.shp', 'INPUT_FIELDS' : ['FID','index'], 'INTERSECT' : 'G:/820_fix_osm_link/osm_network.shp', 'INTERSECT_FIELDS' : ['link','freespeed','capacity','permlanes','oneway','modes'], 'INTERSECT_FIELDS_PREFIX' : '', 'OUTPUT' : 'G:/820_fix_osm_link/intersection.shp' }\n",
    "```"
   ]
  },
  {
   "cell_type": "code",
   "execution_count": null,
   "id": "badd2845",
   "metadata": {},
   "outputs": [],
   "source": [
    "#intersection shp to csv ,read csv , get osm link"
   ]
  },
  {
   "cell_type": "code",
   "execution_count": 149,
   "id": "615851ca",
   "metadata": {},
   "outputs": [],
   "source": [
    "import csv "
   ]
  },
  {
   "cell_type": "code",
   "execution_count": 150,
   "id": "f95bd74b",
   "metadata": {},
   "outputs": [],
   "source": [
    "dict_link={}\n",
    "dict_freespeed={}\n",
    "dict_capacity ={}\n",
    "dict_permlanes={}\n",
    "dict_modes = {}\n",
    "with open ('intersection.csv','rt',encoding='utf-8') as f:\n",
    "    reader = csv.reader(f)\n",
    "    next(reader, None)\n",
    "    \n",
    "    for row in reader :\n",
    "        fid, index, link,freespeed,capacity,permlanes,oneway,modes =row\n",
    "        #dict_link\n",
    "        if fid in dict_link.keys():\n",
    "            if link not in dict_link[fid]:\n",
    "                dict_link[fid].append(link)\n",
    "        else:\n",
    "            dict_link[fid]=[link]\n",
    "        \n",
    "        #dict freespeed\n",
    "        if (fid,index) in dict_freespeed.keys():\n",
    "            dict_freespeed[(fid,index)].append(freespeed)\n",
    "        else:\n",
    "            dict_freespeed[(fid,index)] = [freespeed]              \n",
    "        \n",
    "        #dict  capacity\n",
    "        if (fid,index) in dict_capacity.keys():\n",
    "            dict_capacity[(fid,index)].append(capacity)\n",
    "        else:\n",
    "            dict_capacity[(fid,index)] = [capacity]\n",
    "            \n",
    "        #dict permelances\n",
    "        if (fid,index) in dict_permlanes.keys():\n",
    "            dict_permlanes[(fid,index)].append(permlanes)\n",
    "        else:\n",
    "            dict_permlanes[(fid,index)] = [permlanes]\n",
    "            \n",
    "        #dict modes\n",
    "        if (fid,index) in dict_modes.keys():\n",
    "            dict_modes[(fid,index)].append(modes)\n",
    "        else:\n",
    "            dict_modes[(fid,index)] = [modes]"
   ]
  },
  {
   "cell_type": "code",
   "execution_count": 151,
   "id": "683b6823",
   "metadata": {},
   "outputs": [],
   "source": [
    "fid2freespeed= {}\n",
    "for key ,value in dict_freespeed.items():\n",
    "    fid, index = key  \n",
    "    c=0\n",
    "    for v in value:\n",
    "        c= c+ float(v)\n",
    "    c= c/len(value)\n",
    "    if fid in fid2freespeed.keys():\n",
    "        fid2freespeed[fid].append(c)\n",
    "    else:\n",
    "        fid2freespeed[fid]=[c]\n",
    "\n",
    "\n",
    "fid2capacity= {}\n",
    "for key ,value in dict_capacity.items():\n",
    "    fid, index = key\n",
    "    \n",
    "    c=0\n",
    "    for v in value:\n",
    "        c= c+ float(v)\n",
    "    \n",
    "    if fid in fid2capacity.keys():\n",
    "        fid2capacity[fid].append(c)\n",
    "    else:\n",
    "        fid2capacity[fid]=[c]\n",
    "    \n",
    "fid2permlanes= {}\n",
    "for key ,value in dict_permlanes.items():\n",
    "    fid, index = key\n",
    "    \n",
    "    c=0\n",
    "    for v in value:\n",
    "        c= c+ float(v)\n",
    "    \n",
    "    if fid in fid2permlanes.keys():\n",
    "        fid2permlanes[fid].append(c)\n",
    "    else:\n",
    "        fid2permlanes[fid]=[c]\n",
    "        \n",
    "fid2modes= {}\n",
    "for key ,value in dict_modes.items():\n",
    "    fid, index = key\n",
    "    for v in value:\n",
    "        for m in v.split(','):\n",
    "            if fid in fid2modes.keys():\n",
    "                \n",
    "                if m not in fid2modes[fid]:\n",
    "                    fid2modes[fid].append(m)\n",
    "            else:\n",
    "                fid2modes[fid]=[m]    \n",
    "                \n",
    "                \n",
    "fid2link={}\n",
    "for key,value in dict_link.items():\n",
    "    fid2link[key]=' '.join(value)"
   ]
  },
  {
   "cell_type": "code",
   "execution_count": 152,
   "id": "13daf4a4",
   "metadata": {},
   "outputs": [],
   "source": [
    "avg_freespeed = {}\n",
    "for key ,value in fid2freespeed.items():\n",
    "    avg_freespeed[key] = sum(value)/len(value)\n",
    "\n",
    "\n",
    "avg_capacity = {}\n",
    "for key ,value in fid2capacity.items():\n",
    "    avg_capacity [key] = sum(value)/len(value)\n",
    "    \n",
    "    \n",
    "avg_permlanes = {}\n",
    "for key ,value in fid2permlanes.items():\n",
    "    avg_permlanes [key] = max(value)\n",
    "    \n",
    "    \n"
   ]
  },
  {
   "cell_type": "code",
   "execution_count": 153,
   "id": "2ef4fbce",
   "metadata": {},
   "outputs": [],
   "source": [
    "#export dict as csv"
   ]
  },
  {
   "cell_type": "code",
   "execution_count": 154,
   "id": "f5994ee7",
   "metadata": {},
   "outputs": [],
   "source": [
    "df = pd.DataFrame.from_dict(avg_freespeed,orient='index')\n",
    "df.to_csv(\"avg_freespeed.csv\", encoding='utf-8',header=False)"
   ]
  },
  {
   "cell_type": "code",
   "execution_count": 155,
   "id": "c5048462",
   "metadata": {},
   "outputs": [],
   "source": [
    "df = pd.DataFrame.from_dict(avg_capacity,orient='index')\n",
    "df.to_csv(\"avg_capacity.csv\", encoding='utf-8',header=False)"
   ]
  },
  {
   "cell_type": "code",
   "execution_count": 156,
   "id": "89da961a",
   "metadata": {},
   "outputs": [],
   "source": [
    "df = pd.DataFrame.from_dict(avg_permlanes,orient='index')\n",
    "df.to_csv(\"avg_permlanes.csv\", encoding='utf-8',header=False)"
   ]
  },
  {
   "cell_type": "code",
   "execution_count": 157,
   "id": "f5181b81",
   "metadata": {},
   "outputs": [],
   "source": [
    "df = pd.DataFrame.from_dict(fid2modes,orient='index')\n",
    "df.to_csv(\"fid2modes.csv\", encoding='utf-8',header=False)"
   ]
  },
  {
   "cell_type": "code",
   "execution_count": 158,
   "id": "ba7a2b76",
   "metadata": {},
   "outputs": [],
   "source": [
    "df = pd.DataFrame.from_dict(fid2link,orient='index')\n",
    "df.to_csv(\"fid2link.csv\", encoding='utf-8',header=False)"
   ]
  },
  {
   "cell_type": "code",
   "execution_count": null,
   "id": "8eb5c0d9",
   "metadata": {},
   "outputs": [],
   "source": []
  }
 ],
 "metadata": {
  "kernelspec": {
   "display_name": "Python 3 (ipykernel)",
   "language": "python",
   "name": "python3"
  },
  "language_info": {
   "codemirror_mode": {
    "name": "ipython",
    "version": 3
   },
   "file_extension": ".py",
   "mimetype": "text/x-python",
   "name": "python",
   "nbconvert_exporter": "python",
   "pygments_lexer": "ipython3",
   "version": "3.9.0"
  }
 },
 "nbformat": 4,
 "nbformat_minor": 5
}
